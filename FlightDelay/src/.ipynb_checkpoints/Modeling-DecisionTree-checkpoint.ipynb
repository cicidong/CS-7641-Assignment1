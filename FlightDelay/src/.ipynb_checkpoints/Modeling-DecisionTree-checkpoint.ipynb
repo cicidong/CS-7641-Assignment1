{
 "cells": [
  {
   "cell_type": "markdown",
   "metadata": {},
   "source": [
    "# Decision Tree Modeling and hyperparameter tuning\n",
    "\n",
    "\n"
   ]
  },
  {
   "cell_type": "code",
   "execution_count": 47,
   "metadata": {},
   "outputs": [],
   "source": [
    "import pandas as pd\n",
    "import plotly\n",
    "from sklearn.model_selection import train_test_split\n",
    "from sklearn.linear_model import LinearRegression\n",
    "from sklearn.linear_model import Ridge\n",
    "from sklearn import linear_model\n",
    "from sklearn import metrics\n",
    "from sklearn.model_selection import cross_val_score\n",
    "import timeit\n",
    "import plotly.express as px\n",
    "import numpy as np\n",
    "import matplotlib.pyplot as plt\n",
    "from sklearn.model_selection import validation_curve\n",
    "import warnings\n",
    "warnings.filterwarnings(action='once')"
   ]
  },
  {
   "cell_type": "code",
   "execution_count": 48,
   "metadata": {},
   "outputs": [],
   "source": [
    "df = pd.read_csv('../Data/feature_engineered.csv')"
   ]
  },
  {
   "cell_type": "code",
   "execution_count": 49,
   "metadata": {},
   "outputs": [
    {
     "data": {
      "text/html": [
       "<div>\n",
       "<style scoped>\n",
       "    .dataframe tbody tr th:only-of-type {\n",
       "        vertical-align: middle;\n",
       "    }\n",
       "\n",
       "    .dataframe tbody tr th {\n",
       "        vertical-align: top;\n",
       "    }\n",
       "\n",
       "    .dataframe thead th {\n",
       "        text-align: right;\n",
       "    }\n",
       "</style>\n",
       "<table border=\"1\" class=\"dataframe\">\n",
       "  <thead>\n",
       "    <tr style=\"text-align: right;\">\n",
       "      <th></th>\n",
       "      <th>Saturday</th>\n",
       "      <th>Tuesday_Wednesday</th>\n",
       "      <th>CARRIER_rank</th>\n",
       "      <th>ORIGIN_rank</th>\n",
       "      <th>DEST_rank</th>\n",
       "      <th>LATE_NIGHT</th>\n",
       "      <th>DEP_HOUR_rank</th>\n",
       "      <th>DEP_DEL15</th>\n",
       "      <th>ARR_DEL15</th>\n",
       "    </tr>\n",
       "  </thead>\n",
       "  <tbody>\n",
       "    <tr>\n",
       "      <th>count</th>\n",
       "      <td>599235.000000</td>\n",
       "      <td>599235.000000</td>\n",
       "      <td>599235.000000</td>\n",
       "      <td>599235.000000</td>\n",
       "      <td>599235.000000</td>\n",
       "      <td>599235.000000</td>\n",
       "      <td>599235.000000</td>\n",
       "      <td>599235.000000</td>\n",
       "      <td>599235.000000</td>\n",
       "    </tr>\n",
       "    <tr>\n",
       "      <th>mean</th>\n",
       "      <td>0.106010</td>\n",
       "      <td>0.287562</td>\n",
       "      <td>6.354168</td>\n",
       "      <td>3.474976</td>\n",
       "      <td>3.052632</td>\n",
       "      <td>0.038092</td>\n",
       "      <td>3.283166</td>\n",
       "      <td>0.135917</td>\n",
       "      <td>0.137317</td>\n",
       "    </tr>\n",
       "    <tr>\n",
       "      <th>std</th>\n",
       "      <td>0.307851</td>\n",
       "      <td>0.452626</td>\n",
       "      <td>4.872752</td>\n",
       "      <td>2.177318</td>\n",
       "      <td>2.288243</td>\n",
       "      <td>0.191418</td>\n",
       "      <td>2.106907</td>\n",
       "      <td>0.342700</td>\n",
       "      <td>0.344182</td>\n",
       "    </tr>\n",
       "    <tr>\n",
       "      <th>min</th>\n",
       "      <td>0.000000</td>\n",
       "      <td>0.000000</td>\n",
       "      <td>0.000000</td>\n",
       "      <td>0.000000</td>\n",
       "      <td>0.000000</td>\n",
       "      <td>0.000000</td>\n",
       "      <td>0.000000</td>\n",
       "      <td>0.000000</td>\n",
       "      <td>0.000000</td>\n",
       "    </tr>\n",
       "    <tr>\n",
       "      <th>25%</th>\n",
       "      <td>0.000000</td>\n",
       "      <td>0.000000</td>\n",
       "      <td>2.000000</td>\n",
       "      <td>2.000000</td>\n",
       "      <td>1.000000</td>\n",
       "      <td>0.000000</td>\n",
       "      <td>2.000000</td>\n",
       "      <td>0.000000</td>\n",
       "      <td>0.000000</td>\n",
       "    </tr>\n",
       "    <tr>\n",
       "      <th>50%</th>\n",
       "      <td>0.000000</td>\n",
       "      <td>0.000000</td>\n",
       "      <td>6.000000</td>\n",
       "      <td>3.000000</td>\n",
       "      <td>2.000000</td>\n",
       "      <td>0.000000</td>\n",
       "      <td>3.000000</td>\n",
       "      <td>0.000000</td>\n",
       "      <td>0.000000</td>\n",
       "    </tr>\n",
       "    <tr>\n",
       "      <th>75%</th>\n",
       "      <td>0.000000</td>\n",
       "      <td>1.000000</td>\n",
       "      <td>10.000000</td>\n",
       "      <td>5.000000</td>\n",
       "      <td>4.000000</td>\n",
       "      <td>0.000000</td>\n",
       "      <td>5.000000</td>\n",
       "      <td>0.000000</td>\n",
       "      <td>0.000000</td>\n",
       "    </tr>\n",
       "    <tr>\n",
       "      <th>max</th>\n",
       "      <td>1.000000</td>\n",
       "      <td>1.000000</td>\n",
       "      <td>16.000000</td>\n",
       "      <td>9.000000</td>\n",
       "      <td>9.000000</td>\n",
       "      <td>1.000000</td>\n",
       "      <td>9.000000</td>\n",
       "      <td>1.000000</td>\n",
       "      <td>1.000000</td>\n",
       "    </tr>\n",
       "  </tbody>\n",
       "</table>\n",
       "</div>"
      ],
      "text/plain": [
       "            Saturday  Tuesday_Wednesday   CARRIER_rank    ORIGIN_rank  \\\n",
       "count  599235.000000      599235.000000  599235.000000  599235.000000   \n",
       "mean        0.106010           0.287562       6.354168       3.474976   \n",
       "std         0.307851           0.452626       4.872752       2.177318   \n",
       "min         0.000000           0.000000       0.000000       0.000000   \n",
       "25%         0.000000           0.000000       2.000000       2.000000   \n",
       "50%         0.000000           0.000000       6.000000       3.000000   \n",
       "75%         0.000000           1.000000      10.000000       5.000000   \n",
       "max         1.000000           1.000000      16.000000       9.000000   \n",
       "\n",
       "           DEST_rank     LATE_NIGHT  DEP_HOUR_rank      DEP_DEL15  \\\n",
       "count  599235.000000  599235.000000  599235.000000  599235.000000   \n",
       "mean        3.052632       0.038092       3.283166       0.135917   \n",
       "std         2.288243       0.191418       2.106907       0.342700   \n",
       "min         0.000000       0.000000       0.000000       0.000000   \n",
       "25%         1.000000       0.000000       2.000000       0.000000   \n",
       "50%         2.000000       0.000000       3.000000       0.000000   \n",
       "75%         4.000000       0.000000       5.000000       0.000000   \n",
       "max         9.000000       1.000000       9.000000       1.000000   \n",
       "\n",
       "           ARR_DEL15  \n",
       "count  599235.000000  \n",
       "mean        0.137317  \n",
       "std         0.344182  \n",
       "min         0.000000  \n",
       "25%         0.000000  \n",
       "50%         0.000000  \n",
       "75%         0.000000  \n",
       "max         1.000000  "
      ]
     },
     "execution_count": 49,
     "metadata": {},
     "output_type": "execute_result"
    }
   ],
   "source": [
    "df.describe()"
   ]
  },
  {
   "cell_type": "code",
   "execution_count": 50,
   "metadata": {
    "scrolled": false
   },
   "outputs": [
    {
     "data": {
      "text/plain": [
       "Saturday               int64\n",
       "Tuesday_Wednesday      int64\n",
       "CARRIER_rank           int64\n",
       "ORIGIN_rank          float64\n",
       "DEST_rank            float64\n",
       "LATE_NIGHT             int64\n",
       "DEP_HOUR_rank          int64\n",
       "DEP_DEL15            float64\n",
       "ARR_DEL15            float64\n",
       "dtype: object"
      ]
     },
     "execution_count": 50,
     "metadata": {},
     "output_type": "execute_result"
    }
   ],
   "source": [
    "df.dtypes"
   ]
  },
  {
   "cell_type": "code",
   "execution_count": 51,
   "metadata": {},
   "outputs": [
    {
     "data": {
      "text/plain": [
       "Index(['Saturday', 'Tuesday_Wednesday', 'CARRIER_rank', 'ORIGIN_rank',\n",
       "       'DEST_rank', 'LATE_NIGHT', 'DEP_HOUR_rank', 'DEP_DEL15', 'ARR_DEL15'],\n",
       "      dtype='object')"
      ]
     },
     "execution_count": 51,
     "metadata": {},
     "output_type": "execute_result"
    }
   ],
   "source": [
    "df.columns"
   ]
  },
  {
   "cell_type": "code",
   "execution_count": 52,
   "metadata": {},
   "outputs": [
    {
     "name": "stdout",
     "output_type": "stream",
     "text": [
      "records in training dataset\n",
      "64000\n",
      "records in validation dataset\n",
      "16000\n",
      "records in final testing dataset\n",
      "20000\n"
     ]
    }
   ],
   "source": [
    "df = df.sample(100000)\n",
    "\n",
    "X_train, X_final_test = train_test_split(df,test_size=0.2, random_state= 2)\n",
    "X_final_test.to_csv('../Data/testing_dataset.csv', index = False)\n",
    "## within the training dataset, split the data into training dataset and testing/validation dataset\n",
    "X_train, X_test = train_test_split(X_train,test_size=0.2, random_state= 2)\n",
    "print('records in training dataset')\n",
    "print(len(X_train))\n",
    "print('records in validation dataset')\n",
    "print(len(X_test))\n",
    "print('records in final testing dataset')\n",
    "print(len(X_final_test))"
   ]
  },
  {
   "cell_type": "code",
   "execution_count": 53,
   "metadata": {},
   "outputs": [],
   "source": [
    "predictors = ['Saturday', 'Tuesday_Wednesday', 'CARRIER_rank', 'ORIGIN_rank',\n",
    "       'DEST_rank', 'LATE_NIGHT', 'DEP_HOUR_rank', 'DEP_DEL15']\n",
    "target = 'ARR_DEL15'\n"
   ]
  },
  {
   "cell_type": "code",
   "execution_count": 80,
   "metadata": {},
   "outputs": [],
   "source": [
    "def modelfit(estimator,data_train,data_test,predictors,target):\n",
    "    start = timeit.default_timer()\n",
    "    #fitting model\n",
    "    estimator.fit(data_train[predictors],data_train.loc[:,target])\n",
    "    #train data prediction\n",
    "    start1 = timeit.default_timer()\n",
    "    train_pred=estimator.predict(data_train[predictors])\n",
    "    stop1 = timeit.default_timer()\n",
    "    #cross_validation score\n",
    "    cv_score=cross_val_score(estimator,data_train[predictors],data_train.loc[:,target],cv=5,scoring='precision')\n",
    "\n",
    "    #Print model report:\n",
    "    print (\"\\nModel Report\")\n",
    "    print (\"Accuracy on Train Data: %.4g\" % metrics.accuracy_score(data_train.loc[:,target].values, train_pred))\n",
    "    print (\"Precision on Train Data: %.4g\" % metrics.precision_score(data_train.loc[:,target].values, train_pred))\n",
    "    print (\"Recall on Train Data: %.4g\" % metrics.recall_score(data_train.loc[:,target].values, train_pred))\n",
    "    print (\"F1 score on Train Data: %.4g\" % metrics.f1_score(data_train.loc[:,target].values, train_pred))\n",
    "    \n",
    "    print (\"CV Score : Mean - %.4g | Std - %.4g | Min - %.4g | Max - %.4g\" % (np.mean(cv_score),np.std(cv_score),np.min(cv_score),np.max(cv_score)))\n",
    "    start2 = timeit.default_timer()\n",
    "    test_pred=estimator.predict(data_test[predictors])\n",
    "    stop2 = timeit.default_timer()\n",
    "    print (\"Accuracy on Test Data: %.4g\" % metrics.accuracy_score(data_test.loc[:,target].values, test_pred))  \n",
    "    print (\"Precision on Test Data: %.4g\" % metrics.precision_score(data_test.loc[:,target].values, test_pred)) \n",
    "    print (\"Recall on Test Data: %.4g\" % metrics.recall_score(data_test.loc[:,target].values, test_pred)) \n",
    "    print (\"F1 score on Test Data: %.4g\" % metrics.f1_score(data_test.loc[:,target].values, test_pred)) \n",
    "    stop = timeit.default_timer()\n",
    "    print('Total Time: ', stop - start)\n",
    "    print('training time: ', stop1 - start1)\n",
    "    print('testing time: ', stop2 - start2)\n",
    "    return test_pred\n"
   ]
  },
  {
   "cell_type": "code",
   "execution_count": 55,
   "metadata": {
    "scrolled": true
   },
   "outputs": [
    {
     "data": {
      "text/plain": [
       "0.0    0.865375\n",
       "1.0    0.134625\n",
       "Name: ARR_DEL15, dtype: float64"
      ]
     },
     "execution_count": 55,
     "metadata": {},
     "output_type": "execute_result"
    }
   ],
   "source": [
    "X_test.ARR_DEL15.value_counts(normalize =True)"
   ]
  },
  {
   "cell_type": "markdown",
   "metadata": {},
   "source": [
    "## Helper functions"
   ]
  },
  {
   "cell_type": "code",
   "execution_count": 56,
   "metadata": {},
   "outputs": [],
   "source": [
    "## create learning curve ploting function\n",
    "\n",
    "from sklearn.model_selection import learning_curve\n",
    "##learning curve\n",
    "# Obtain scores from learning curve function\n",
    "# cv is the number of folds while performing Cross Validation\n",
    "def plot_learning_curve(alg, X, y, scoring_metric, algorithm_name):\n",
    "    sizes, training_scores, testing_scores = learning_curve(alg, X, y, cv=5, scoring= scoring_metric, train_sizes=np.linspace(0.01, 1.0, 30))\n",
    "\n",
    "    # Mean and Standard Deviation of training scores\n",
    "    mean_training = np.mean(training_scores, axis=1)\n",
    "    Standard_Deviation_training = np.std(training_scores, axis=1)\n",
    "\n",
    "    # Mean and Standard Deviation of testing scores\n",
    "    mean_testing = np.mean(testing_scores, axis=1)\n",
    "    Standard_Deviation_testing = np.std(testing_scores, axis=1)\n",
    "\n",
    "    # dotted blue line is for training scores and green line is for cross-validation score\n",
    "    plt.plot(sizes, mean_training, '--', color=\"b\",  label=\"Training score\")\n",
    "    plt.plot(sizes, mean_testing, color=\"g\", label=\"Cross-validation score\")\n",
    "\n",
    "    # Drawing plot\n",
    "    plt.title(\"LEARNING CURVE FOR %s\" % algorithm_name)\n",
    "    plt.xlabel(\"Training Set Size\"), plt.ylabel(\"%s Score\" % scoring_metric), plt.legend(loc=\"best\")\n",
    "    plt.tight_layout()\n",
    "    plt.show()\n",
    "    return"
   ]
  },
  {
   "cell_type": "code",
   "execution_count": 57,
   "metadata": {},
   "outputs": [],
   "source": [
    "# create validation curve ploting function\n",
    "\n",
    "\n",
    " \n",
    "# Calculate accuracy on training and test set using the\n",
    "# gamma parameter with 5-fold cross validation\n",
    "def plot_validation_curve(alg,X, y, param_name, parameter_range, scoring_metric, algorithm_name):\n",
    "    train_score, test_score = validation_curve(alg, X, y,\n",
    "                                           param_name = param_name,\n",
    "                                           param_range = parameter_range,\n",
    "                                            cv = 5, scoring = scoring_metric)\n",
    "\n",
    "    # Calculating mean and standard deviation of training score\n",
    "    mean_train_score = np.mean(train_score, axis = 1)\n",
    "    std_train_score = np.std(train_score, axis = 1)\n",
    "\n",
    "    # Calculating mean and standard deviation of testing score\n",
    "    mean_test_score = np.mean(test_score, axis = 1)\n",
    "    std_test_score = np.std(test_score, axis = 1)\n",
    "\n",
    "    # Plot mean accuracy scores for training and testing scores\n",
    "    plt.plot(parameter_range, mean_train_score,\n",
    "         label = \"Training Score\", color = 'b')\n",
    "    plt.plot(parameter_range, mean_test_score,\n",
    "       label = \"Cross Validation Score\", color = 'g')\n",
    "\n",
    "    # Creating the plot\n",
    "    plt.title(\"Validation Curve with %s\" % algorithm_name)\n",
    "    plt.xlabel(\"%s\" % param_name)\n",
    "    plt.ylabel(\"%s\" % scoring_metric)\n",
    "    plt.tight_layout()\n",
    "    plt.legend(loc = 'best')\n",
    "    plt.show()\n",
    "    return"
   ]
  },
  {
   "cell_type": "markdown",
   "metadata": {},
   "source": [
    "## Modeling"
   ]
  },
  {
   "cell_type": "markdown",
   "metadata": {},
   "source": [
    "## Decision Tree"
   ]
  },
  {
   "cell_type": "markdown",
   "metadata": {},
   "source": [
    "**Baseline Model**"
   ]
  },
  {
   "cell_type": "code",
   "execution_count": 58,
   "metadata": {
    "scrolled": true
   },
   "outputs": [
    {
     "name": "stdout",
     "output_type": "stream",
     "text": [
      "\n",
      "Model Report\n",
      "Accuracy on Train Data: 0.9502\n",
      "Precision on Train Data: 0.9119\n",
      "Recall on Train Data: 0.7129\n",
      "F1 score on Train Data: 0.8002\n",
      "CV Score : Mean - 0.6338 | Std - 0.01263 | Min - 0.6106 | Max - 0.6461\n",
      "Accuracy on Test Data: 0.9129\n",
      "Precision on Test Data: 0.7203\n",
      "Recall on Test Data: 0.5775\n",
      "F1 score on Test Data: 0.6411\n",
      "Time:  0.593510273999982\n"
     ]
    }
   ],
   "source": [
    "from sklearn.tree import DecisionTreeClassifier\n",
    "\n",
    "cart = DecisionTreeClassifier(random_state = 1)\n",
    "y_pred=modelfit(cart, X_train, X_test,predictors,target)"
   ]
  },
  {
   "cell_type": "markdown",
   "metadata": {},
   "source": [
    "## Model Analysis"
   ]
  },
  {
   "cell_type": "code",
   "execution_count": 59,
   "metadata": {},
   "outputs": [],
   "source": [
    "## sampling data to cut down run time \n",
    "X_train_test = X_train.sample(50000)\n",
    "X = X_train_test[predictors]\n",
    "y = X_train_test[target]"
   ]
  },
  {
   "cell_type": "markdown",
   "metadata": {},
   "source": [
    "**Learning curve**"
   ]
  },
  {
   "cell_type": "code",
   "execution_count": 74,
   "metadata": {
    "scrolled": true
   },
   "outputs": [
    {
     "data": {
      "image/png": "[encoded data removed]",
      "text/plain": [
       "<Figure size 432x288 with 1 Axes>"
      ]
     },
     "metadata": {
      "needs_background": "light"
     },
     "output_type": "display_data"
    }
   ],
   "source": [
    "plot_learning_curve(cart, X, y, 'f1', 'Decision Tree')"
   ]
  },
  {
   "cell_type": "markdown",
   "metadata": {},
   "source": [
    "**Validation curve**"
   ]
  },
  {
   "cell_type": "code",
   "execution_count": 61,
   "metadata": {},
   "outputs": [
    {
     "data": {
      "image/png": "[encoded data removed]",
      "text/plain": [
       "<Figure size 432x288 with 1 Axes>"
      ]
     },
     "metadata": {
      "needs_background": "light"
     },
     "output_type": "display_data"
    }
   ],
   "source": [
    "##min_samples_leaf\n",
    "## min samples in each node\n",
    "##converges at 50\n",
    "parameter_range = [1, 3, 5, 10, 50, 100]\n",
    "plot_validation_curve(cart ,X, y, \"min_samples_leaf\", parameter_range, \"f1\", 'decision tree')"
   ]
  },
  {
   "cell_type": "code",
   "execution_count": 62,
   "metadata": {},
   "outputs": [
    {
     "data": {
      "image/png": "[encoded data removed]",
      "text/plain": [
       "<Figure size 432x288 with 1 Axes>"
      ]
     },
     "metadata": {
      "needs_background": "light"
     },
     "output_type": "display_data"
    }
   ],
   "source": [
    "##max_depth\n",
    "## at max_depth 3, training and corss validation score converges\n",
    "parameter_range = [1, 3, 5, 7]\n",
    "plot_validation_curve(cart ,X, y, \"max_depth\", parameter_range, \"f1\", 'decision tree')"
   ]
  },
  {
   "cell_type": "code",
   "execution_count": 63,
   "metadata": {},
   "outputs": [
    {
     "data": {
      "text/plain": [
       "<sklearn.metrics._plot.roc_curve.RocCurveDisplay at 0x7f84aea80050>"
      ]
     },
     "execution_count": 63,
     "metadata": {},
     "output_type": "execute_result"
    },
    {
     "data": {
      "image/png": "[encoded data removed]",
      "text/plain": [
       "<Figure size 432x288 with 1 Axes>"
      ]
     },
     "metadata": {
      "needs_background": "light"
     },
     "output_type": "display_data"
    }
   ],
   "source": [
    "## ROC curve\n",
    "from sklearn.metrics import confusion_matrix, classification_report, plot_roc_curve\n",
    "\n",
    "plot_roc_curve(cart, X_test[predictors], X_test[target])"
   ]
  },
  {
   "cell_type": "markdown",
   "metadata": {},
   "source": [
    "**Grid search for best hyperparameter set**"
   ]
  },
  {
   "cell_type": "code",
   "execution_count": 64,
   "metadata": {},
   "outputs": [
    {
     "data": {
      "text/plain": [
       "GridSearchCV(estimator=DecisionTreeClassifier(random_state=1),\n",
       "             param_grid={'max_depth': [1, 3, 5, 7],\n",
       "                         'min_samples_leaf': [1, 3, 5, 10, 50, 100]},\n",
       "             return_train_score=True, scoring='f1')"
      ]
     },
     "execution_count": 64,
     "metadata": {},
     "output_type": "execute_result"
    }
   ],
   "source": [
    "from sklearn.model_selection import GridSearchCV\n",
    "param_grid = {\n",
    "              'max_depth': [1, 3, 5, 7],\n",
    "              'min_samples_leaf': [1, 3, 5, 10, 50, 100]}\n",
    "grid_lr = GridSearchCV(estimator =cart, param_grid= param_grid, scoring='f1', \n",
    "                        refit=True, return_train_score=True) \n",
    "grid_lr.fit(X_train[predictors],X_train[target])"
   ]
  },
  {
   "cell_type": "code",
   "execution_count": 65,
   "metadata": {},
   "outputs": [
    {
     "name": "stdout",
     "output_type": "stream",
     "text": [
      "DecisionTreeClassifier(max_depth=1, random_state=1)\n",
      "{'max_depth': 1, 'min_samples_leaf': 1}\n"
     ]
    }
   ],
   "source": [
    "print(grid_lr.best_estimator_)\n",
    "\n",
    "print(grid_lr.best_params_)"
   ]
  },
  {
   "cell_type": "markdown",
   "metadata": {},
   "source": [
    "**New model after hyperparameter tuning**"
   ]
  },
  {
   "cell_type": "code",
   "execution_count": 66,
   "metadata": {},
   "outputs": [],
   "source": [
    "cart_tuned = grid_lr.best_estimator_\n"
   ]
  },
  {
   "cell_type": "code",
   "execution_count": 81,
   "metadata": {},
   "outputs": [
    {
     "name": "stdout",
     "output_type": "stream",
     "text": [
      "\n",
      "Model Report\n",
      "Accuracy on Train Data: 0.9321\n",
      "Precision on Train Data: 0.7627\n",
      "Recall on Train Data: 0.7468\n",
      "F1 score on Train Data: 0.7547\n",
      "CV Score : Mean - 0.7627 | Std - 0.004248 | Min - 0.7564 | Max - 0.7693\n",
      "Accuracy on Test Data: 0.9309\n",
      "Precision on Test Data: 0.7468\n",
      "Recall on Test Data: 0.7368\n",
      "F1 score on Test Data: 0.7418\n",
      "Total Time:  0.2880910730018513\n",
      "training time:  0.008307530006277375\n",
      "testing time:  0.003861787001369521\n"
     ]
    }
   ],
   "source": [
    "y_pred=modelfit(cart_tuned, X_train, X_test,predictors,target)"
   ]
  },
  {
   "cell_type": "code",
   "execution_count": 82,
   "metadata": {},
   "outputs": [
    {
     "name": "stdout",
     "output_type": "stream",
     "text": [
      "\n",
      "Model Report\n",
      "Accuracy on Train Data: 0.9502\n",
      "Precision on Train Data: 0.9119\n",
      "Recall on Train Data: 0.7129\n",
      "F1 score on Train Data: 0.8002\n",
      "CV Score : Mean - 0.7225 | Std - 0.007443 | Min - 0.7093 | Max - 0.7316\n",
      "Accuracy on Test Data: 0.9129\n",
      "Precision on Test Data: 0.7203\n",
      "Recall on Test Data: 0.5775\n",
      "F1 score on Test Data: 0.6411\n",
      "Total Time:  0.7195969089952996\n",
      "training time:  0.016003407014068216\n",
      "testing time:  0.006475605012383312\n"
     ]
    }
   ],
   "source": [
    "## compare with before hyper parameter tuning \n",
    "y_pred=modelfit(cart, X_train, X_test,predictors,target)"
   ]
  },
  {
   "cell_type": "markdown",
   "metadata": {},
   "source": [
    "**Learning curve after hyper parameter tuning**"
   ]
  },
  {
   "cell_type": "code",
   "execution_count": 69,
   "metadata": {
    "scrolled": true
   },
   "outputs": [
    {
     "data": {
      "image/png": "[encoded data removed]",
      "text/plain": [
       "<Figure size 432x288 with 1 Axes>"
      ]
     },
     "metadata": {
      "needs_background": "light"
     },
     "output_type": "display_data"
    }
   ],
   "source": [
    "disp = plot_roc_curve(cart_tuned, X_test[predictors], X_test[target])\n",
    "plot_roc_curve(cart,X_test[predictors], X_test[target], ax= disp.ax_);"
   ]
  },
  {
   "cell_type": "markdown",
   "metadata": {},
   "source": [
    "**ROC curve comafter hyper parameter tuning** "
   ]
  },
  {
   "cell_type": "code",
   "execution_count": 70,
   "metadata": {},
   "outputs": [
    {
     "data": {
      "text/plain": [
       "DecisionTreeClassifier(max_depth=1, random_state=1)"
      ]
     },
     "execution_count": 70,
     "metadata": {},
     "output_type": "execute_result"
    }
   ],
   "source": [
    "cart_tuned.fit(X_train[predictors],X_train[target])"
   ]
  },
  {
   "cell_type": "code",
   "execution_count": 73,
   "metadata": {},
   "outputs": [
    {
     "data": {
      "image/png": "[encoded data removed]",
      "text/plain": [
       "<Figure size 432x288 with 1 Axes>"
      ]
     },
     "metadata": {
      "needs_background": "light"
     },
     "output_type": "display_data"
    },
    {
     "data": {
      "image/png": "[encoded data removed]",
      "text/plain": [
       "<Figure size 432x288 with 1 Axes>"
      ]
     },
     "metadata": {
      "needs_background": "light"
     },
     "output_type": "display_data"
    }
   ],
   "source": [
    "disp = plot_learning_curve(cart_tuned, X, y, 'f1', 'Decision Tree_hyperparameter_tuned')\n",
    "plot_learning_curve(cart, X, y, 'f1', 'Decision Tree');"
   ]
  },
  {
   "cell_type": "markdown",
   "metadata": {},
   "source": [
    "## Final prediction results and performance "
   ]
  },
  {
   "cell_type": "code",
   "execution_count": 78,
   "metadata": {},
   "outputs": [
    {
     "name": "stdout",
     "output_type": "stream",
     "text": [
      "\n",
      "Model Report\n",
      "Accuracy on Train Data: 0.9321\n",
      "Precision on Train Data: 0.7627\n",
      "Recall on Train Data: 0.7468\n",
      "F1 score on Train Data: 0.7547\n",
      "CV Score : Mean - 0.7547 | Std - 0.005833 | Min - 0.7466 | Max - 0.7628\n",
      "Accuracy on Test Data: 0.9329\n",
      "Precision on Test Data: 0.7654\n",
      "Recall on Test Data: 0.7398\n",
      "F1 score on Test Data: 0.7524\n",
      "Time:  0.3583728639932815\n"
     ]
    }
   ],
   "source": [
    "y_pred=modelfit(cart_tuned, X_train, X_final_test,predictors,target)"
   ]
  }
 ],
 "metadata": {
  "kernelspec": {
   "display_name": "Python 3",
   "language": "python",
   "name": "python3"
  },
  "language_info": {
   "codemirror_mode": {
    "name": "ipython",
    "version": 3
   },
   "file_extension": ".py",
   "mimetype": "text/x-python",
   "name": "python",
   "nbconvert_exporter": "python",
   "pygments_lexer": "ipython3",
   "version": "3.6.5"
  }
 },
 "nbformat": 4,
 "nbformat_minor": 2
}

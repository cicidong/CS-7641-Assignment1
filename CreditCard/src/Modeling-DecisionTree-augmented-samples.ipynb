{
 "cells": [
  {
   "cell_type": "markdown",
   "metadata": {},
   "source": [
    "# Decision Tree Modeling and hyperparameter tuning\n",
    "\n",
    "\n"
   ]
  },
  {
   "cell_type": "code",
   "execution_count": 1,
   "metadata": {},
   "outputs": [],
   "source": [
    "import pandas as pd\n",
    "import plotly\n",
    "from sklearn.model_selection import train_test_split\n",
    "from sklearn.linear_model import LinearRegression\n",
    "from sklearn.linear_model import Ridge\n",
    "from sklearn import linear_model\n",
    "from sklearn import metrics\n",
    "from sklearn.model_selection import cross_val_score\n",
    "import timeit\n",
    "import plotly.express as px\n",
    "import numpy as np\n",
    "import matplotlib.pyplot as plt\n",
    "from sklearn.model_selection import validation_curve\n",
    "import warnings\n",
    "warnings.filterwarnings(action='once')"
   ]
  },
  {
   "cell_type": "code",
   "execution_count": 2,
   "metadata": {},
   "outputs": [],
   "source": [
    "df = pd.read_csv('/Users/ej7793/Documents/CreditCard/Data/feature_engineered.csv')\n",
    "\n",
    "predictor_list = pd.read_pickle(r'/Users/ej7793/Documents/CreditCard/src/predictor_list')"
   ]
  },
  {
   "cell_type": "code",
   "execution_count": 3,
   "metadata": {},
   "outputs": [
    {
     "name": "stdout",
     "output_type": "stream",
     "text": [
      "['education_level_ 9th', 'occupation_ Priv-house-serv', 'asset_code_19.0', 'education_level_ 7th-8th', 'account_type_high_approval', 'asset_code_4.0', 'education_level_ HS-grad', 'occupation_ Craft-repair', 'education_level_ 12th', 'relationship_ Husband', 'occupation_ Transport-moving', 'education_level_ 5th-6th', 'education_level_ 10th', 'asset_code_2.0', 'education_level_ Assoc-voc', 'education_level_ Some-college', 'portfolio_type_I', 'relationship_ Unmarried', 'portfolio_type_R', 'institution_PVT', 'age_group_older_age', 'asset_code_1.0', 'education_level_ Assoc-acdm', 'portfolio_type_M', 'institution_BRO', 'workclass_ Private', 'education_level_ 11th', 'occupation_ Adm-clerical', 'education_level_ Bachelors', 'age_group_young', 'occupation_ Sales', 'workclass_ Self-emp-inc', 'workclass_ State-gov', 'education_level_ Masters', 'occupation_ Protective-serv', 'workclass_ Local-gov', 'relationship_ Not-in-family', 'hours_per_week', 'occupation_ Machine-op-inspct', 'education_level_ Prof-school', 'relationship_ Wife', 'workclass_ Federal-gov', 'gender_ Female', 'relationship_ Other-relative', 'account_type_mid_approval', 'workclass_ Self-emp-not-inc', 'occupation_ Tech-support', 'age_group_mid_age', 'occupation_ Handlers-cleaners', 'occupation_ Farming-fishing', 'occupation_ Prof-specialty', 'occupation_ Exec-managerial', 'occupation_ Other-service', 'relationship_ Own-child', 'inquiry', 'capital_net', 'education_num', 'age_group_minor or senior', 'married']\n"
     ]
    }
   ],
   "source": [
    "print(predictor_list)"
   ]
  },
  {
   "cell_type": "code",
   "execution_count": 4,
   "metadata": {},
   "outputs": [
    {
     "data": {
      "text/html": [
       "<div>\n",
       "<style scoped>\n",
       "    .dataframe tbody tr th:only-of-type {\n",
       "        vertical-align: middle;\n",
       "    }\n",
       "\n",
       "    .dataframe tbody tr th {\n",
       "        vertical-align: top;\n",
       "    }\n",
       "\n",
       "    .dataframe thead th {\n",
       "        text-align: right;\n",
       "    }\n",
       "</style>\n",
       "<table border=\"1\" class=\"dataframe\">\n",
       "  <thead>\n",
       "    <tr style=\"text-align: right;\">\n",
       "      <th></th>\n",
       "      <th>education_num</th>\n",
       "      <th>hours_per_week</th>\n",
       "      <th>approved</th>\n",
       "      <th>married</th>\n",
       "      <th>hours</th>\n",
       "      <th>capital_net</th>\n",
       "      <th>inquiry</th>\n",
       "      <th>institution_BRO</th>\n",
       "      <th>institution_PVT</th>\n",
       "      <th>account_type_high_approval</th>\n",
       "      <th>...</th>\n",
       "      <th>occupation_ Tech-support</th>\n",
       "      <th>occupation_ Transport-moving</th>\n",
       "      <th>asset_code_1.0</th>\n",
       "      <th>asset_code_2.0</th>\n",
       "      <th>asset_code_4.0</th>\n",
       "      <th>asset_code_19.0</th>\n",
       "      <th>portfolio_type_F</th>\n",
       "      <th>portfolio_type_I</th>\n",
       "      <th>portfolio_type_M</th>\n",
       "      <th>portfolio_type_R</th>\n",
       "    </tr>\n",
       "  </thead>\n",
       "  <tbody>\n",
       "    <tr>\n",
       "      <th>count</th>\n",
       "      <td>43843.000000</td>\n",
       "      <td>43843.000000</td>\n",
       "      <td>43843.000000</td>\n",
       "      <td>43843.000000</td>\n",
       "      <td>43843.000000</td>\n",
       "      <td>43843.000000</td>\n",
       "      <td>43843.000000</td>\n",
       "      <td>43843.000000</td>\n",
       "      <td>43843.000000</td>\n",
       "      <td>43843.000000</td>\n",
       "      <td>...</td>\n",
       "      <td>43843.000000</td>\n",
       "      <td>43843.000000</td>\n",
       "      <td>43843.000000</td>\n",
       "      <td>43843.000000</td>\n",
       "      <td>43843.000000</td>\n",
       "      <td>43843.000000</td>\n",
       "      <td>43843.000000</td>\n",
       "      <td>43843.000000</td>\n",
       "      <td>43843.000000</td>\n",
       "      <td>43843.000000</td>\n",
       "    </tr>\n",
       "    <tr>\n",
       "      <th>mean</th>\n",
       "      <td>10.120202</td>\n",
       "      <td>40.940675</td>\n",
       "      <td>0.249869</td>\n",
       "      <td>0.467669</td>\n",
       "      <td>0.777182</td>\n",
       "      <td>557.719499</td>\n",
       "      <td>0.360765</td>\n",
       "      <td>0.006911</td>\n",
       "      <td>0.580731</td>\n",
       "      <td>0.001163</td>\n",
       "      <td>...</td>\n",
       "      <td>0.031544</td>\n",
       "      <td>0.051411</td>\n",
       "      <td>0.968342</td>\n",
       "      <td>0.025933</td>\n",
       "      <td>0.004379</td>\n",
       "      <td>0.001346</td>\n",
       "      <td>0.000342</td>\n",
       "      <td>0.382296</td>\n",
       "      <td>0.025204</td>\n",
       "      <td>0.592158</td>\n",
       "    </tr>\n",
       "    <tr>\n",
       "      <th>std</th>\n",
       "      <td>2.555691</td>\n",
       "      <td>12.014723</td>\n",
       "      <td>0.432942</td>\n",
       "      <td>0.498959</td>\n",
       "      <td>0.416142</td>\n",
       "      <td>2601.498611</td>\n",
       "      <td>0.480228</td>\n",
       "      <td>0.082846</td>\n",
       "      <td>0.493445</td>\n",
       "      <td>0.034087</td>\n",
       "      <td>...</td>\n",
       "      <td>0.174786</td>\n",
       "      <td>0.220837</td>\n",
       "      <td>0.175091</td>\n",
       "      <td>0.158939</td>\n",
       "      <td>0.066032</td>\n",
       "      <td>0.036660</td>\n",
       "      <td>0.018494</td>\n",
       "      <td>0.485954</td>\n",
       "      <td>0.156745</td>\n",
       "      <td>0.491439</td>\n",
       "    </tr>\n",
       "    <tr>\n",
       "      <th>min</th>\n",
       "      <td>1.000000</td>\n",
       "      <td>1.000000</td>\n",
       "      <td>0.000000</td>\n",
       "      <td>0.000000</td>\n",
       "      <td>0.000000</td>\n",
       "      <td>-4356.000000</td>\n",
       "      <td>0.000000</td>\n",
       "      <td>0.000000</td>\n",
       "      <td>0.000000</td>\n",
       "      <td>0.000000</td>\n",
       "      <td>...</td>\n",
       "      <td>0.000000</td>\n",
       "      <td>0.000000</td>\n",
       "      <td>0.000000</td>\n",
       "      <td>0.000000</td>\n",
       "      <td>0.000000</td>\n",
       "      <td>0.000000</td>\n",
       "      <td>0.000000</td>\n",
       "      <td>0.000000</td>\n",
       "      <td>0.000000</td>\n",
       "      <td>0.000000</td>\n",
       "    </tr>\n",
       "    <tr>\n",
       "      <th>25%</th>\n",
       "      <td>9.000000</td>\n",
       "      <td>40.000000</td>\n",
       "      <td>0.000000</td>\n",
       "      <td>0.000000</td>\n",
       "      <td>1.000000</td>\n",
       "      <td>0.000000</td>\n",
       "      <td>0.000000</td>\n",
       "      <td>0.000000</td>\n",
       "      <td>0.000000</td>\n",
       "      <td>0.000000</td>\n",
       "      <td>...</td>\n",
       "      <td>0.000000</td>\n",
       "      <td>0.000000</td>\n",
       "      <td>1.000000</td>\n",
       "      <td>0.000000</td>\n",
       "      <td>0.000000</td>\n",
       "      <td>0.000000</td>\n",
       "      <td>0.000000</td>\n",
       "      <td>0.000000</td>\n",
       "      <td>0.000000</td>\n",
       "      <td>0.000000</td>\n",
       "    </tr>\n",
       "    <tr>\n",
       "      <th>50%</th>\n",
       "      <td>10.000000</td>\n",
       "      <td>40.000000</td>\n",
       "      <td>0.000000</td>\n",
       "      <td>0.000000</td>\n",
       "      <td>1.000000</td>\n",
       "      <td>0.000000</td>\n",
       "      <td>0.000000</td>\n",
       "      <td>0.000000</td>\n",
       "      <td>1.000000</td>\n",
       "      <td>0.000000</td>\n",
       "      <td>...</td>\n",
       "      <td>0.000000</td>\n",
       "      <td>0.000000</td>\n",
       "      <td>1.000000</td>\n",
       "      <td>0.000000</td>\n",
       "      <td>0.000000</td>\n",
       "      <td>0.000000</td>\n",
       "      <td>0.000000</td>\n",
       "      <td>0.000000</td>\n",
       "      <td>0.000000</td>\n",
       "      <td>1.000000</td>\n",
       "    </tr>\n",
       "    <tr>\n",
       "      <th>75%</th>\n",
       "      <td>13.000000</td>\n",
       "      <td>45.000000</td>\n",
       "      <td>0.000000</td>\n",
       "      <td>1.000000</td>\n",
       "      <td>1.000000</td>\n",
       "      <td>0.000000</td>\n",
       "      <td>1.000000</td>\n",
       "      <td>0.000000</td>\n",
       "      <td>1.000000</td>\n",
       "      <td>0.000000</td>\n",
       "      <td>...</td>\n",
       "      <td>0.000000</td>\n",
       "      <td>0.000000</td>\n",
       "      <td>1.000000</td>\n",
       "      <td>0.000000</td>\n",
       "      <td>0.000000</td>\n",
       "      <td>0.000000</td>\n",
       "      <td>0.000000</td>\n",
       "      <td>1.000000</td>\n",
       "      <td>0.000000</td>\n",
       "      <td>1.000000</td>\n",
       "    </tr>\n",
       "    <tr>\n",
       "      <th>max</th>\n",
       "      <td>16.000000</td>\n",
       "      <td>99.000000</td>\n",
       "      <td>1.000000</td>\n",
       "      <td>1.000000</td>\n",
       "      <td>1.000000</td>\n",
       "      <td>15024.000000</td>\n",
       "      <td>1.000000</td>\n",
       "      <td>1.000000</td>\n",
       "      <td>1.000000</td>\n",
       "      <td>1.000000</td>\n",
       "      <td>...</td>\n",
       "      <td>1.000000</td>\n",
       "      <td>1.000000</td>\n",
       "      <td>1.000000</td>\n",
       "      <td>1.000000</td>\n",
       "      <td>1.000000</td>\n",
       "      <td>1.000000</td>\n",
       "      <td>1.000000</td>\n",
       "      <td>1.000000</td>\n",
       "      <td>1.000000</td>\n",
       "      <td>1.000000</td>\n",
       "    </tr>\n",
       "  </tbody>\n",
       "</table>\n",
       "<p>8 rows × 68 columns</p>\n",
       "</div>"
      ],
      "text/plain": [
       "       education_num  hours_per_week      approved       married  \\\n",
       "count   43843.000000    43843.000000  43843.000000  43843.000000   \n",
       "mean       10.120202       40.940675      0.249869      0.467669   \n",
       "std         2.555691       12.014723      0.432942      0.498959   \n",
       "min         1.000000        1.000000      0.000000      0.000000   \n",
       "25%         9.000000       40.000000      0.000000      0.000000   \n",
       "50%        10.000000       40.000000      0.000000      0.000000   \n",
       "75%        13.000000       45.000000      0.000000      1.000000   \n",
       "max        16.000000       99.000000      1.000000      1.000000   \n",
       "\n",
       "              hours   capital_net       inquiry  institution_BRO  \\\n",
       "count  43843.000000  43843.000000  43843.000000     43843.000000   \n",
       "mean       0.777182    557.719499      0.360765         0.006911   \n",
       "std        0.416142   2601.498611      0.480228         0.082846   \n",
       "min        0.000000  -4356.000000      0.000000         0.000000   \n",
       "25%        1.000000      0.000000      0.000000         0.000000   \n",
       "50%        1.000000      0.000000      0.000000         0.000000   \n",
       "75%        1.000000      0.000000      1.000000         0.000000   \n",
       "max        1.000000  15024.000000      1.000000         1.000000   \n",
       "\n",
       "       institution_PVT  account_type_high_approval  ...  \\\n",
       "count     43843.000000                43843.000000  ...   \n",
       "mean          0.580731                    0.001163  ...   \n",
       "std           0.493445                    0.034087  ...   \n",
       "min           0.000000                    0.000000  ...   \n",
       "25%           0.000000                    0.000000  ...   \n",
       "50%           1.000000                    0.000000  ...   \n",
       "75%           1.000000                    0.000000  ...   \n",
       "max           1.000000                    1.000000  ...   \n",
       "\n",
       "       occupation_ Tech-support  occupation_ Transport-moving  asset_code_1.0  \\\n",
       "count              43843.000000                  43843.000000    43843.000000   \n",
       "mean                   0.031544                      0.051411        0.968342   \n",
       "std                    0.174786                      0.220837        0.175091   \n",
       "min                    0.000000                      0.000000        0.000000   \n",
       "25%                    0.000000                      0.000000        1.000000   \n",
       "50%                    0.000000                      0.000000        1.000000   \n",
       "75%                    0.000000                      0.000000        1.000000   \n",
       "max                    1.000000                      1.000000        1.000000   \n",
       "\n",
       "       asset_code_2.0  asset_code_4.0  asset_code_19.0  portfolio_type_F  \\\n",
       "count    43843.000000    43843.000000     43843.000000      43843.000000   \n",
       "mean         0.025933        0.004379         0.001346          0.000342   \n",
       "std          0.158939        0.066032         0.036660          0.018494   \n",
       "min          0.000000        0.000000         0.000000          0.000000   \n",
       "25%          0.000000        0.000000         0.000000          0.000000   \n",
       "50%          0.000000        0.000000         0.000000          0.000000   \n",
       "75%          0.000000        0.000000         0.000000          0.000000   \n",
       "max          1.000000        1.000000         1.000000          1.000000   \n",
       "\n",
       "       portfolio_type_I  portfolio_type_M  portfolio_type_R  \n",
       "count      43843.000000      43843.000000      43843.000000  \n",
       "mean           0.382296          0.025204          0.592158  \n",
       "std            0.485954          0.156745          0.491439  \n",
       "min            0.000000          0.000000          0.000000  \n",
       "25%            0.000000          0.000000          0.000000  \n",
       "50%            0.000000          0.000000          1.000000  \n",
       "75%            1.000000          0.000000          1.000000  \n",
       "max            1.000000          1.000000          1.000000  \n",
       "\n",
       "[8 rows x 68 columns]"
      ]
     },
     "execution_count": 4,
     "metadata": {},
     "output_type": "execute_result"
    }
   ],
   "source": [
    "df.describe()"
   ]
  },
  {
   "cell_type": "code",
   "execution_count": 5,
   "metadata": {
    "scrolled": false
   },
   "outputs": [
    {
     "data": {
      "text/plain": [
       "user_id              object\n",
       "education_num       float64\n",
       "hours_per_week      float64\n",
       "approved              int64\n",
       "married               int64\n",
       "                     ...   \n",
       "asset_code_19.0       int64\n",
       "portfolio_type_F      int64\n",
       "portfolio_type_I      int64\n",
       "portfolio_type_M      int64\n",
       "portfolio_type_R      int64\n",
       "Length: 69, dtype: object"
      ]
     },
     "execution_count": 5,
     "metadata": {},
     "output_type": "execute_result"
    }
   ],
   "source": [
    "df.dtypes"
   ]
  },
  {
   "cell_type": "code",
   "execution_count": 6,
   "metadata": {},
   "outputs": [
    {
     "data": {
      "text/plain": [
       "Index(['user_id', 'education_num', 'hours_per_week', 'approved', 'married',\n",
       "       'hours', 'capital_net', 'inquiry', 'institution_BRO', 'institution_PVT',\n",
       "       'account_type_high_approval', 'account_type_mid_approval',\n",
       "       'gender_ Female', 'gender_ Male', 'age_group_mid_age',\n",
       "       'age_group_minor or senior', 'age_group_older_age', 'age_group_young',\n",
       "       'workclass_ Federal-gov', 'workclass_ Local-gov', 'workclass_ Private',\n",
       "       'workclass_ Self-emp-inc', 'workclass_ Self-emp-not-inc',\n",
       "       'workclass_ State-gov', 'workclass_ Without-pay',\n",
       "       'education_level_ 10th', 'education_level_ 11th',\n",
       "       'education_level_ 12th', 'education_level_ 1st-4th',\n",
       "       'education_level_ 5th-6th', 'education_level_ 7th-8th',\n",
       "       'education_level_ 9th', 'education_level_ Assoc-acdm',\n",
       "       'education_level_ Assoc-voc', 'education_level_ Bachelors',\n",
       "       'education_level_ Doctorate', 'education_level_ HS-grad',\n",
       "       'education_level_ Masters', 'education_level_ Preschool',\n",
       "       'education_level_ Prof-school', 'education_level_ Some-college',\n",
       "       'relationship_ Husband', 'relationship_ Not-in-family',\n",
       "       'relationship_ Other-relative', 'relationship_ Own-child',\n",
       "       'relationship_ Unmarried', 'relationship_ Wife',\n",
       "       'occupation_ Adm-clerical', 'occupation_ Armed-Forces',\n",
       "       'occupation_ Craft-repair', 'occupation_ Exec-managerial',\n",
       "       'occupation_ Farming-fishing', 'occupation_ Handlers-cleaners',\n",
       "       'occupation_ Machine-op-inspct', 'occupation_ Other-service',\n",
       "       'occupation_ Priv-house-serv', 'occupation_ Prof-specialty',\n",
       "       'occupation_ Protective-serv', 'occupation_ Sales',\n",
       "       'occupation_ Tech-support', 'occupation_ Transport-moving',\n",
       "       'asset_code_1.0', 'asset_code_2.0', 'asset_code_4.0', 'asset_code_19.0',\n",
       "       'portfolio_type_F', 'portfolio_type_I', 'portfolio_type_M',\n",
       "       'portfolio_type_R'],\n",
       "      dtype='object')"
      ]
     },
     "execution_count": 6,
     "metadata": {},
     "output_type": "execute_result"
    }
   ],
   "source": [
    "df.columns"
   ]
  },
  {
   "cell_type": "code",
   "execution_count": 7,
   "metadata": {},
   "outputs": [
    {
     "name": "stdout",
     "output_type": "stream",
     "text": [
      "records in training dataset\n",
      "28059\n",
      "records in validation dataset\n",
      "7015\n",
      "records in final testing dataset\n",
      "8769\n"
     ]
    }
   ],
   "source": [
    "df = df##.sample(10000)\n",
    "\n",
    "X_train, X_final_test = train_test_split(df,test_size=0.2, random_state= 2)\n",
    "X_final_test.to_csv('../Data/testing_dataset.csv', index = False)\n",
    "## within the training dataset, split the data into training dataset and testing/validation dataset\n",
    "X_train, X_test = train_test_split(X_train,test_size=0.2, random_state= 2)\n",
    "print('records in training dataset')\n",
    "print(len(X_train))\n",
    "print('records in validation dataset')\n",
    "print(len(X_test))\n",
    "print('records in final testing dataset')\n",
    "print(len(X_final_test))"
   ]
  },
  {
   "cell_type": "code",
   "execution_count": 8,
   "metadata": {},
   "outputs": [],
   "source": [
    "predictors = predictor_list\n",
    "target = 'approved'\n"
   ]
  },
  {
   "cell_type": "code",
   "execution_count": 9,
   "metadata": {},
   "outputs": [],
   "source": [
    "def modelfit(estimator,data_train,data_test,predictors,target):\n",
    "    start = timeit.default_timer()\n",
    "    #fitting model\n",
    "    estimator.fit(data_train[predictors],data_train.loc[:,target])\n",
    "    #train data prediction\n",
    "    train_pred=estimator.predict(data_train[predictors])\n",
    "    #cross_validation score\n",
    "    cv_score=cross_val_score(estimator,data_train[predictors],data_train.loc[:,target],cv=5,scoring='precision')\n",
    "\n",
    "    #Print model report:\n",
    "    print (\"\\nModel Report\")\n",
    "    print (\"Accuracy on Train Data: %.4g\" % metrics.accuracy_score(data_train.loc[:,target].values, train_pred))\n",
    "    print (\"Precision on Train Data: %.4g\" % metrics.precision_score(data_train.loc[:,target].values, train_pred))\n",
    "    print (\"Recall on Train Data: %.4g\" % metrics.recall_score(data_train.loc[:,target].values, train_pred))\n",
    "    print (\"F1 score on Train Data: %.4g\" % metrics.f1_score(data_train.loc[:,target].values, train_pred))\n",
    "    \n",
    "    print (\"CV Score : Mean - %.4g | Std - %.4g | Min - %.4g | Max - %.4g\" % (np.mean(cv_score),np.std(cv_score),np.min(cv_score),np.max(cv_score)))\n",
    "    \n",
    "    test_pred=estimator.predict(data_test[predictors])\n",
    "    print (\"Accuracy on Test Data: %.4g\" % metrics.accuracy_score(data_test.loc[:,target].values, test_pred))  \n",
    "    print (\"Precision on Test Data: %.4g\" % metrics.precision_score(data_test.loc[:,target].values, test_pred)) \n",
    "    print (\"Recall on Test Data: %.4g\" % metrics.recall_score(data_test.loc[:,target].values, test_pred)) \n",
    "    print (\"F1 score on Test Data: %.4g\" % metrics.f1_score(data_test.loc[:,target].values, test_pred)) \n",
    "    stop = timeit.default_timer()\n",
    "    print('Time: ', stop - start)\n",
    "    return test_pred\n"
   ]
  },
  {
   "cell_type": "code",
   "execution_count": 10,
   "metadata": {
    "scrolled": true
   },
   "outputs": [
    {
     "data": {
      "text/plain": [
       "0    0.75082\n",
       "1    0.24918\n",
       "Name: approved, dtype: float64"
      ]
     },
     "execution_count": 10,
     "metadata": {},
     "output_type": "execute_result"
    }
   ],
   "source": [
    "X_test.approved.value_counts(normalize =True)"
   ]
  },
  {
   "cell_type": "markdown",
   "metadata": {},
   "source": [
    "## Helper functions"
   ]
  },
  {
   "cell_type": "code",
   "execution_count": 11,
   "metadata": {},
   "outputs": [],
   "source": [
    "## create learning curve ploting function\n",
    "\n",
    "from sklearn.model_selection import learning_curve\n",
    "##learning curve\n",
    "# Obtain scores from learning curve function\n",
    "# cv is the number of folds while performing Cross Validation\n",
    "def plot_learning_curve(alg, X, y, scoring_metric, algorithm_name):\n",
    "    sizes, training_scores, testing_scores = learning_curve(alg, X, y, cv=5, scoring= scoring_metric, train_sizes=np.linspace(0.01, 1.0, 30))\n",
    "\n",
    "    # Mean and Standard Deviation of training scores\n",
    "    mean_training = np.mean(training_scores, axis=1)\n",
    "    Standard_Deviation_training = np.std(training_scores, axis=1)\n",
    "\n",
    "    # Mean and Standard Deviation of testing scores\n",
    "    mean_testing = np.mean(testing_scores, axis=1)\n",
    "    Standard_Deviation_testing = np.std(testing_scores, axis=1)\n",
    "\n",
    "    # dotted blue line is for training scores and green line is for cross-validation score\n",
    "    plt.plot(sizes, mean_training, '--', color=\"b\",  label=\"Training score\")\n",
    "    plt.plot(sizes, mean_testing, color=\"g\", label=\"Cross-validation score\")\n",
    "\n",
    "    # Drawing plot\n",
    "    plt.title(\"LEARNING CURVE FOR %s\" % algorithm_name)\n",
    "    plt.xlabel(\"Training Set Size\"), plt.ylabel(\"%s Score\" % scoring_metric), plt.legend(loc=\"best\")\n",
    "    plt.tight_layout()\n",
    "    plt.show()\n",
    "    return"
   ]
  },
  {
   "cell_type": "code",
   "execution_count": 12,
   "metadata": {},
   "outputs": [],
   "source": [
    "# create validation curve ploting function\n",
    "\n",
    "\n",
    " \n",
    "# Calculate accuracy on training and test set using the\n",
    "# gamma parameter with 5-fold cross validation\n",
    "def plot_validation_curve(alg,X, y, param_name, parameter_range, scoring_metric, algorithm_name):\n",
    "    train_score, test_score = validation_curve(alg, X, y,\n",
    "                                           param_name = param_name,\n",
    "                                           param_range = parameter_range,\n",
    "                                            cv = 5, scoring = scoring_metric)\n",
    "\n",
    "    # Calculating mean and standard deviation of training score\n",
    "    mean_train_score = np.mean(train_score, axis = 1)\n",
    "    std_train_score = np.std(train_score, axis = 1)\n",
    "\n",
    "    # Calculating mean and standard deviation of testing score\n",
    "    mean_test_score = np.mean(test_score, axis = 1)\n",
    "    std_test_score = np.std(test_score, axis = 1)\n",
    "\n",
    "    # Plot mean accuracy scores for training and testing scores\n",
    "    plt.plot(parameter_range, mean_train_score,\n",
    "         label = \"Training Score\", color = 'b')\n",
    "    plt.plot(parameter_range, mean_test_score,\n",
    "       label = \"Cross Validation Score\", color = 'g')\n",
    "\n",
    "    # Creating the plot\n",
    "    plt.title(\"Validation Curve with %s\" % algorithm_name)\n",
    "    plt.xlabel(\"%s\" % param_name)\n",
    "    plt.ylabel(\"%s\" % scoring_metric)\n",
    "    plt.tight_layout()\n",
    "    plt.legend(loc = 'best')\n",
    "    plt.show()\n",
    "    return"
   ]
  },
  {
   "cell_type": "markdown",
   "metadata": {},
   "source": [
    "## Modeling"
   ]
  },
  {
   "cell_type": "markdown",
   "metadata": {},
   "source": [
    "## Decision Tree"
   ]
  },
  {
   "cell_type": "markdown",
   "metadata": {},
   "source": [
    "**Baseline Model**"
   ]
  },
  {
   "cell_type": "code",
   "execution_count": 13,
   "metadata": {
    "scrolled": true
   },
   "outputs": [
    {
     "name": "stdout",
     "output_type": "stream",
     "text": [
      "\n",
      "Model Report\n",
      "Accuracy on Train Data: 0.965\n",
      "Precision on Train Data: 0.9666\n",
      "Recall on Train Data: 0.8912\n",
      "F1 score on Train Data: 0.9274\n",
      "CV Score : Mean - 0.6492 | Std - 0.006087 | Min - 0.6413 | Max - 0.658\n",
      "Accuracy on Test Data: 0.8239\n",
      "Precision on Test Data: 0.6524\n",
      "Recall on Test Data: 0.6281\n",
      "F1 score on Test Data: 0.64\n",
      "Time:  1.2550863140000033\n"
     ]
    }
   ],
   "source": [
    "from sklearn.tree import DecisionTreeClassifier\n",
    "\n",
    "cart = DecisionTreeClassifier(random_state = 1)\n",
    "y_pred=modelfit(cart, X_train, X_test,predictors,target)"
   ]
  },
  {
   "cell_type": "markdown",
   "metadata": {},
   "source": [
    "## Model Analysis"
   ]
  },
  {
   "cell_type": "code",
   "execution_count": 14,
   "metadata": {},
   "outputs": [],
   "source": [
    "X = X_train[predictors]\n",
    "y = X_train[target]"
   ]
  },
  {
   "cell_type": "markdown",
   "metadata": {},
   "source": [
    "**Learning curve**"
   ]
  },
  {
   "cell_type": "code",
   "execution_count": 15,
   "metadata": {
    "scrolled": true
   },
   "outputs": [
    {
     "data": {
      "image/png": "[encoded data removed]",
      "text/plain": [
       "<Figure size 432x288 with 1 Axes>"
      ]
     },
     "metadata": {
      "needs_background": "light"
     },
     "output_type": "display_data"
    }
   ],
   "source": [
    "plot_learning_curve(cart, X, y, 'precision', 'Decision Tree')"
   ]
  },
  {
   "cell_type": "markdown",
   "metadata": {},
   "source": [
    "**Validation curve**"
   ]
  },
  {
   "cell_type": "code",
   "execution_count": 16,
   "metadata": {},
   "outputs": [
    {
     "data": {
      "image/png": "[encoded data removed]",
      "text/plain": [
       "<Figure size 432x288 with 1 Axes>"
      ]
     },
     "metadata": {
      "needs_background": "light"
     },
     "output_type": "display_data"
    }
   ],
   "source": [
    "##min_samples_leaf\n",
    "## min samples in each node\n",
    "##converges at 50\n",
    "parameter_range = [1, 3, 5, 10, 50, 100]\n",
    "plot_validation_curve(cart ,X, y, \"min_samples_leaf\", parameter_range, \"precision\", 'decision tree')"
   ]
  },
  {
   "cell_type": "code",
   "execution_count": 17,
   "metadata": {},
   "outputs": [
    {
     "name": "stderr",
     "output_type": "stream",
     "text": [
      "/Users/ej7793/opt/anaconda3/lib/python3.7/site-packages/sklearn/metrics/_classification.py:1248: UndefinedMetricWarning: Precision is ill-defined and being set to 0.0 due to no predicted samples. Use `zero_division` parameter to control this behavior.\n",
      "  _warn_prf(average, modifier, msg_start, len(result))\n",
      "/Users/ej7793/opt/anaconda3/lib/python3.7/site-packages/sklearn/metrics/_classification.py:1248: UndefinedMetricWarning: Precision is ill-defined and being set to 0.0 due to no predicted samples. Use `zero_division` parameter to control this behavior.\n",
      "  _warn_prf(average, modifier, msg_start, len(result))\n",
      "/Users/ej7793/opt/anaconda3/lib/python3.7/site-packages/sklearn/metrics/_classification.py:1248: UndefinedMetricWarning: Precision is ill-defined and being set to 0.0 due to no predicted samples. Use `zero_division` parameter to control this behavior.\n",
      "  _warn_prf(average, modifier, msg_start, len(result))\n",
      "/Users/ej7793/opt/anaconda3/lib/python3.7/site-packages/sklearn/metrics/_classification.py:1248: UndefinedMetricWarning: Precision is ill-defined and being set to 0.0 due to no predicted samples. Use `zero_division` parameter to control this behavior.\n",
      "  _warn_prf(average, modifier, msg_start, len(result))\n",
      "/Users/ej7793/opt/anaconda3/lib/python3.7/site-packages/sklearn/metrics/_classification.py:1248: UndefinedMetricWarning: Precision is ill-defined and being set to 0.0 due to no predicted samples. Use `zero_division` parameter to control this behavior.\n",
      "  _warn_prf(average, modifier, msg_start, len(result))\n",
      "/Users/ej7793/opt/anaconda3/lib/python3.7/site-packages/sklearn/metrics/_classification.py:1248: UndefinedMetricWarning: Precision is ill-defined and being set to 0.0 due to no predicted samples. Use `zero_division` parameter to control this behavior.\n",
      "  _warn_prf(average, modifier, msg_start, len(result))\n",
      "/Users/ej7793/opt/anaconda3/lib/python3.7/site-packages/sklearn/metrics/_classification.py:1248: UndefinedMetricWarning: Precision is ill-defined and being set to 0.0 due to no predicted samples. Use `zero_division` parameter to control this behavior.\n",
      "  _warn_prf(average, modifier, msg_start, len(result))\n",
      "/Users/ej7793/opt/anaconda3/lib/python3.7/site-packages/sklearn/metrics/_classification.py:1248: UndefinedMetricWarning: Precision is ill-defined and being set to 0.0 due to no predicted samples. Use `zero_division` parameter to control this behavior.\n",
      "  _warn_prf(average, modifier, msg_start, len(result))\n",
      "/Users/ej7793/opt/anaconda3/lib/python3.7/site-packages/sklearn/metrics/_classification.py:1248: UndefinedMetricWarning: Precision is ill-defined and being set to 0.0 due to no predicted samples. Use `zero_division` parameter to control this behavior.\n",
      "  _warn_prf(average, modifier, msg_start, len(result))\n",
      "/Users/ej7793/opt/anaconda3/lib/python3.7/site-packages/sklearn/metrics/_classification.py:1248: UndefinedMetricWarning: Precision is ill-defined and being set to 0.0 due to no predicted samples. Use `zero_division` parameter to control this behavior.\n",
      "  _warn_prf(average, modifier, msg_start, len(result))\n"
     ]
    },
    {
     "data": {
      "image/png": "[encoded data removed]",
      "text/plain": [
       "<Figure size 432x288 with 1 Axes>"
      ]
     },
     "metadata": {
      "needs_background": "light"
     },
     "output_type": "display_data"
    }
   ],
   "source": [
    "##max_depth\n",
    "## at max_depth 3, training and corss validation score converges\n",
    "parameter_range = [1, 3, 5, 7]\n",
    "plot_validation_curve(cart ,X, y, \"max_depth\", parameter_range, \"precision\", 'decision tree')"
   ]
  },
  {
   "cell_type": "code",
   "execution_count": 18,
   "metadata": {},
   "outputs": [
    {
     "data": {
      "text/plain": [
       "<sklearn.metrics._plot.roc_curve.RocCurveDisplay at 0x7fb0994b22d0>"
      ]
     },
     "execution_count": 18,
     "metadata": {},
     "output_type": "execute_result"
    },
    {
     "data": {
      "image/png": "[encoded data removed]",
      "text/plain": [
       "<Figure size 432x288 with 1 Axes>"
      ]
     },
     "metadata": {
      "needs_background": "light"
     },
     "output_type": "display_data"
    }
   ],
   "source": [
    "## ROC curve\n",
    "from sklearn.metrics import confusion_matrix, classification_report, plot_roc_curve\n",
    "\n",
    "plot_roc_curve(cart, X_test[predictors], X_test[target])"
   ]
  },
  {
   "cell_type": "markdown",
   "metadata": {},
   "source": [
    "**Grid search for best hyperparameter set**"
   ]
  },
  {
   "cell_type": "code",
   "execution_count": 19,
   "metadata": {},
   "outputs": [
    {
     "name": "stderr",
     "output_type": "stream",
     "text": [
      "/Users/ej7793/opt/anaconda3/lib/python3.7/site-packages/sklearn/metrics/_classification.py:1248: UndefinedMetricWarning: Precision is ill-defined and being set to 0.0 due to no predicted samples. Use `zero_division` parameter to control this behavior.\n",
      "  _warn_prf(average, modifier, msg_start, len(result))\n",
      "/Users/ej7793/opt/anaconda3/lib/python3.7/site-packages/sklearn/metrics/_classification.py:1248: UndefinedMetricWarning: Precision is ill-defined and being set to 0.0 due to no predicted samples. Use `zero_division` parameter to control this behavior.\n",
      "  _warn_prf(average, modifier, msg_start, len(result))\n",
      "/Users/ej7793/opt/anaconda3/lib/python3.7/site-packages/sklearn/metrics/_classification.py:1248: UndefinedMetricWarning: Precision is ill-defined and being set to 0.0 due to no predicted samples. Use `zero_division` parameter to control this behavior.\n",
      "  _warn_prf(average, modifier, msg_start, len(result))\n",
      "/Users/ej7793/opt/anaconda3/lib/python3.7/site-packages/sklearn/metrics/_classification.py:1248: UndefinedMetricWarning: Precision is ill-defined and being set to 0.0 due to no predicted samples. Use `zero_division` parameter to control this behavior.\n",
      "  _warn_prf(average, modifier, msg_start, len(result))\n",
      "/Users/ej7793/opt/anaconda3/lib/python3.7/site-packages/sklearn/metrics/_classification.py:1248: UndefinedMetricWarning: Precision is ill-defined and being set to 0.0 due to no predicted samples. Use `zero_division` parameter to control this behavior.\n",
      "  _warn_prf(average, modifier, msg_start, len(result))\n",
      "/Users/ej7793/opt/anaconda3/lib/python3.7/site-packages/sklearn/metrics/_classification.py:1248: UndefinedMetricWarning: Precision is ill-defined and being set to 0.0 due to no predicted samples. Use `zero_division` parameter to control this behavior.\n",
      "  _warn_prf(average, modifier, msg_start, len(result))\n",
      "/Users/ej7793/opt/anaconda3/lib/python3.7/site-packages/sklearn/metrics/_classification.py:1248: UndefinedMetricWarning: Precision is ill-defined and being set to 0.0 due to no predicted samples. Use `zero_division` parameter to control this behavior.\n",
      "  _warn_prf(average, modifier, msg_start, len(result))\n",
      "/Users/ej7793/opt/anaconda3/lib/python3.7/site-packages/sklearn/metrics/_classification.py:1248: UndefinedMetricWarning: Precision is ill-defined and being set to 0.0 due to no predicted samples. Use `zero_division` parameter to control this behavior.\n",
      "  _warn_prf(average, modifier, msg_start, len(result))\n",
      "/Users/ej7793/opt/anaconda3/lib/python3.7/site-packages/sklearn/metrics/_classification.py:1248: UndefinedMetricWarning: Precision is ill-defined and being set to 0.0 due to no predicted samples. Use `zero_division` parameter to control this behavior.\n",
      "  _warn_prf(average, modifier, msg_start, len(result))\n",
      "/Users/ej7793/opt/anaconda3/lib/python3.7/site-packages/sklearn/metrics/_classification.py:1248: UndefinedMetricWarning: Precision is ill-defined and being set to 0.0 due to no predicted samples. Use `zero_division` parameter to control this behavior.\n",
      "  _warn_prf(average, modifier, msg_start, len(result))\n",
      "/Users/ej7793/opt/anaconda3/lib/python3.7/site-packages/sklearn/metrics/_classification.py:1248: UndefinedMetricWarning: Precision is ill-defined and being set to 0.0 due to no predicted samples. Use `zero_division` parameter to control this behavior.\n",
      "  _warn_prf(average, modifier, msg_start, len(result))\n",
      "/Users/ej7793/opt/anaconda3/lib/python3.7/site-packages/sklearn/metrics/_classification.py:1248: UndefinedMetricWarning: Precision is ill-defined and being set to 0.0 due to no predicted samples. Use `zero_division` parameter to control this behavior.\n",
      "  _warn_prf(average, modifier, msg_start, len(result))\n",
      "/Users/ej7793/opt/anaconda3/lib/python3.7/site-packages/sklearn/metrics/_classification.py:1248: UndefinedMetricWarning: Precision is ill-defined and being set to 0.0 due to no predicted samples. Use `zero_division` parameter to control this behavior.\n",
      "  _warn_prf(average, modifier, msg_start, len(result))\n",
      "/Users/ej7793/opt/anaconda3/lib/python3.7/site-packages/sklearn/metrics/_classification.py:1248: UndefinedMetricWarning: Precision is ill-defined and being set to 0.0 due to no predicted samples. Use `zero_division` parameter to control this behavior.\n",
      "  _warn_prf(average, modifier, msg_start, len(result))\n",
      "/Users/ej7793/opt/anaconda3/lib/python3.7/site-packages/sklearn/metrics/_classification.py:1248: UndefinedMetricWarning: Precision is ill-defined and being set to 0.0 due to no predicted samples. Use `zero_division` parameter to control this behavior.\n",
      "  _warn_prf(average, modifier, msg_start, len(result))\n",
      "/Users/ej7793/opt/anaconda3/lib/python3.7/site-packages/sklearn/metrics/_classification.py:1248: UndefinedMetricWarning: Precision is ill-defined and being set to 0.0 due to no predicted samples. Use `zero_division` parameter to control this behavior.\n",
      "  _warn_prf(average, modifier, msg_start, len(result))\n",
      "/Users/ej7793/opt/anaconda3/lib/python3.7/site-packages/sklearn/metrics/_classification.py:1248: UndefinedMetricWarning: Precision is ill-defined and being set to 0.0 due to no predicted samples. Use `zero_division` parameter to control this behavior.\n",
      "  _warn_prf(average, modifier, msg_start, len(result))\n",
      "/Users/ej7793/opt/anaconda3/lib/python3.7/site-packages/sklearn/metrics/_classification.py:1248: UndefinedMetricWarning: Precision is ill-defined and being set to 0.0 due to no predicted samples. Use `zero_division` parameter to control this behavior.\n",
      "  _warn_prf(average, modifier, msg_start, len(result))\n",
      "/Users/ej7793/opt/anaconda3/lib/python3.7/site-packages/sklearn/metrics/_classification.py:1248: UndefinedMetricWarning: Precision is ill-defined and being set to 0.0 due to no predicted samples. Use `zero_division` parameter to control this behavior.\n",
      "  _warn_prf(average, modifier, msg_start, len(result))\n",
      "/Users/ej7793/opt/anaconda3/lib/python3.7/site-packages/sklearn/metrics/_classification.py:1248: UndefinedMetricWarning: Precision is ill-defined and being set to 0.0 due to no predicted samples. Use `zero_division` parameter to control this behavior.\n",
      "  _warn_prf(average, modifier, msg_start, len(result))\n",
      "/Users/ej7793/opt/anaconda3/lib/python3.7/site-packages/sklearn/metrics/_classification.py:1248: UndefinedMetricWarning: Precision is ill-defined and being set to 0.0 due to no predicted samples. Use `zero_division` parameter to control this behavior.\n",
      "  _warn_prf(average, modifier, msg_start, len(result))\n",
      "/Users/ej7793/opt/anaconda3/lib/python3.7/site-packages/sklearn/metrics/_classification.py:1248: UndefinedMetricWarning: Precision is ill-defined and being set to 0.0 due to no predicted samples. Use `zero_division` parameter to control this behavior.\n",
      "  _warn_prf(average, modifier, msg_start, len(result))\n",
      "/Users/ej7793/opt/anaconda3/lib/python3.7/site-packages/sklearn/metrics/_classification.py:1248: UndefinedMetricWarning: Precision is ill-defined and being set to 0.0 due to no predicted samples. Use `zero_division` parameter to control this behavior.\n",
      "  _warn_prf(average, modifier, msg_start, len(result))\n",
      "/Users/ej7793/opt/anaconda3/lib/python3.7/site-packages/sklearn/metrics/_classification.py:1248: UndefinedMetricWarning: Precision is ill-defined and being set to 0.0 due to no predicted samples. Use `zero_division` parameter to control this behavior.\n",
      "  _warn_prf(average, modifier, msg_start, len(result))\n",
      "/Users/ej7793/opt/anaconda3/lib/python3.7/site-packages/sklearn/metrics/_classification.py:1248: UndefinedMetricWarning: Precision is ill-defined and being set to 0.0 due to no predicted samples. Use `zero_division` parameter to control this behavior.\n",
      "  _warn_prf(average, modifier, msg_start, len(result))\n",
      "/Users/ej7793/opt/anaconda3/lib/python3.7/site-packages/sklearn/metrics/_classification.py:1248: UndefinedMetricWarning: Precision is ill-defined and being set to 0.0 due to no predicted samples. Use `zero_division` parameter to control this behavior.\n",
      "  _warn_prf(average, modifier, msg_start, len(result))\n",
      "/Users/ej7793/opt/anaconda3/lib/python3.7/site-packages/sklearn/metrics/_classification.py:1248: UndefinedMetricWarning: Precision is ill-defined and being set to 0.0 due to no predicted samples. Use `zero_division` parameter to control this behavior.\n",
      "  _warn_prf(average, modifier, msg_start, len(result))\n",
      "/Users/ej7793/opt/anaconda3/lib/python3.7/site-packages/sklearn/metrics/_classification.py:1248: UndefinedMetricWarning: Precision is ill-defined and being set to 0.0 due to no predicted samples. Use `zero_division` parameter to control this behavior.\n",
      "  _warn_prf(average, modifier, msg_start, len(result))\n",
      "/Users/ej7793/opt/anaconda3/lib/python3.7/site-packages/sklearn/metrics/_classification.py:1248: UndefinedMetricWarning: Precision is ill-defined and being set to 0.0 due to no predicted samples. Use `zero_division` parameter to control this behavior.\n",
      "  _warn_prf(average, modifier, msg_start, len(result))\n",
      "/Users/ej7793/opt/anaconda3/lib/python3.7/site-packages/sklearn/metrics/_classification.py:1248: UndefinedMetricWarning: Precision is ill-defined and being set to 0.0 due to no predicted samples. Use `zero_division` parameter to control this behavior.\n",
      "  _warn_prf(average, modifier, msg_start, len(result))\n"
     ]
    },
    {
     "name": "stderr",
     "output_type": "stream",
     "text": [
      "/Users/ej7793/opt/anaconda3/lib/python3.7/site-packages/sklearn/metrics/_classification.py:1248: UndefinedMetricWarning: Precision is ill-defined and being set to 0.0 due to no predicted samples. Use `zero_division` parameter to control this behavior.\n",
      "  _warn_prf(average, modifier, msg_start, len(result))\n",
      "/Users/ej7793/opt/anaconda3/lib/python3.7/site-packages/sklearn/metrics/_classification.py:1248: UndefinedMetricWarning: Precision is ill-defined and being set to 0.0 due to no predicted samples. Use `zero_division` parameter to control this behavior.\n",
      "  _warn_prf(average, modifier, msg_start, len(result))\n",
      "/Users/ej7793/opt/anaconda3/lib/python3.7/site-packages/sklearn/metrics/_classification.py:1248: UndefinedMetricWarning: Precision is ill-defined and being set to 0.0 due to no predicted samples. Use `zero_division` parameter to control this behavior.\n",
      "  _warn_prf(average, modifier, msg_start, len(result))\n",
      "/Users/ej7793/opt/anaconda3/lib/python3.7/site-packages/sklearn/metrics/_classification.py:1248: UndefinedMetricWarning: Precision is ill-defined and being set to 0.0 due to no predicted samples. Use `zero_division` parameter to control this behavior.\n",
      "  _warn_prf(average, modifier, msg_start, len(result))\n",
      "/Users/ej7793/opt/anaconda3/lib/python3.7/site-packages/sklearn/metrics/_classification.py:1248: UndefinedMetricWarning: Precision is ill-defined and being set to 0.0 due to no predicted samples. Use `zero_division` parameter to control this behavior.\n",
      "  _warn_prf(average, modifier, msg_start, len(result))\n",
      "/Users/ej7793/opt/anaconda3/lib/python3.7/site-packages/sklearn/metrics/_classification.py:1248: UndefinedMetricWarning: Precision is ill-defined and being set to 0.0 due to no predicted samples. Use `zero_division` parameter to control this behavior.\n",
      "  _warn_prf(average, modifier, msg_start, len(result))\n",
      "/Users/ej7793/opt/anaconda3/lib/python3.7/site-packages/sklearn/metrics/_classification.py:1248: UndefinedMetricWarning: Precision is ill-defined and being set to 0.0 due to no predicted samples. Use `zero_division` parameter to control this behavior.\n",
      "  _warn_prf(average, modifier, msg_start, len(result))\n",
      "/Users/ej7793/opt/anaconda3/lib/python3.7/site-packages/sklearn/metrics/_classification.py:1248: UndefinedMetricWarning: Precision is ill-defined and being set to 0.0 due to no predicted samples. Use `zero_division` parameter to control this behavior.\n",
      "  _warn_prf(average, modifier, msg_start, len(result))\n",
      "/Users/ej7793/opt/anaconda3/lib/python3.7/site-packages/sklearn/metrics/_classification.py:1248: UndefinedMetricWarning: Precision is ill-defined and being set to 0.0 due to no predicted samples. Use `zero_division` parameter to control this behavior.\n",
      "  _warn_prf(average, modifier, msg_start, len(result))\n",
      "/Users/ej7793/opt/anaconda3/lib/python3.7/site-packages/sklearn/metrics/_classification.py:1248: UndefinedMetricWarning: Precision is ill-defined and being set to 0.0 due to no predicted samples. Use `zero_division` parameter to control this behavior.\n",
      "  _warn_prf(average, modifier, msg_start, len(result))\n",
      "/Users/ej7793/opt/anaconda3/lib/python3.7/site-packages/sklearn/metrics/_classification.py:1248: UndefinedMetricWarning: Precision is ill-defined and being set to 0.0 due to no predicted samples. Use `zero_division` parameter to control this behavior.\n",
      "  _warn_prf(average, modifier, msg_start, len(result))\n",
      "/Users/ej7793/opt/anaconda3/lib/python3.7/site-packages/sklearn/metrics/_classification.py:1248: UndefinedMetricWarning: Precision is ill-defined and being set to 0.0 due to no predicted samples. Use `zero_division` parameter to control this behavior.\n",
      "  _warn_prf(average, modifier, msg_start, len(result))\n",
      "/Users/ej7793/opt/anaconda3/lib/python3.7/site-packages/sklearn/metrics/_classification.py:1248: UndefinedMetricWarning: Precision is ill-defined and being set to 0.0 due to no predicted samples. Use `zero_division` parameter to control this behavior.\n",
      "  _warn_prf(average, modifier, msg_start, len(result))\n",
      "/Users/ej7793/opt/anaconda3/lib/python3.7/site-packages/sklearn/metrics/_classification.py:1248: UndefinedMetricWarning: Precision is ill-defined and being set to 0.0 due to no predicted samples. Use `zero_division` parameter to control this behavior.\n",
      "  _warn_prf(average, modifier, msg_start, len(result))\n",
      "/Users/ej7793/opt/anaconda3/lib/python3.7/site-packages/sklearn/metrics/_classification.py:1248: UndefinedMetricWarning: Precision is ill-defined and being set to 0.0 due to no predicted samples. Use `zero_division` parameter to control this behavior.\n",
      "  _warn_prf(average, modifier, msg_start, len(result))\n",
      "/Users/ej7793/opt/anaconda3/lib/python3.7/site-packages/sklearn/metrics/_classification.py:1248: UndefinedMetricWarning: Precision is ill-defined and being set to 0.0 due to no predicted samples. Use `zero_division` parameter to control this behavior.\n",
      "  _warn_prf(average, modifier, msg_start, len(result))\n",
      "/Users/ej7793/opt/anaconda3/lib/python3.7/site-packages/sklearn/metrics/_classification.py:1248: UndefinedMetricWarning: Precision is ill-defined and being set to 0.0 due to no predicted samples. Use `zero_division` parameter to control this behavior.\n",
      "  _warn_prf(average, modifier, msg_start, len(result))\n",
      "/Users/ej7793/opt/anaconda3/lib/python3.7/site-packages/sklearn/metrics/_classification.py:1248: UndefinedMetricWarning: Precision is ill-defined and being set to 0.0 due to no predicted samples. Use `zero_division` parameter to control this behavior.\n",
      "  _warn_prf(average, modifier, msg_start, len(result))\n",
      "/Users/ej7793/opt/anaconda3/lib/python3.7/site-packages/sklearn/metrics/_classification.py:1248: UndefinedMetricWarning: Precision is ill-defined and being set to 0.0 due to no predicted samples. Use `zero_division` parameter to control this behavior.\n",
      "  _warn_prf(average, modifier, msg_start, len(result))\n",
      "/Users/ej7793/opt/anaconda3/lib/python3.7/site-packages/sklearn/metrics/_classification.py:1248: UndefinedMetricWarning: Precision is ill-defined and being set to 0.0 due to no predicted samples. Use `zero_division` parameter to control this behavior.\n",
      "  _warn_prf(average, modifier, msg_start, len(result))\n",
      "/Users/ej7793/opt/anaconda3/lib/python3.7/site-packages/sklearn/metrics/_classification.py:1248: UndefinedMetricWarning: Precision is ill-defined and being set to 0.0 due to no predicted samples. Use `zero_division` parameter to control this behavior.\n",
      "  _warn_prf(average, modifier, msg_start, len(result))\n",
      "/Users/ej7793/opt/anaconda3/lib/python3.7/site-packages/sklearn/metrics/_classification.py:1248: UndefinedMetricWarning: Precision is ill-defined and being set to 0.0 due to no predicted samples. Use `zero_division` parameter to control this behavior.\n",
      "  _warn_prf(average, modifier, msg_start, len(result))\n",
      "/Users/ej7793/opt/anaconda3/lib/python3.7/site-packages/sklearn/metrics/_classification.py:1248: UndefinedMetricWarning: Precision is ill-defined and being set to 0.0 due to no predicted samples. Use `zero_division` parameter to control this behavior.\n",
      "  _warn_prf(average, modifier, msg_start, len(result))\n",
      "/Users/ej7793/opt/anaconda3/lib/python3.7/site-packages/sklearn/metrics/_classification.py:1248: UndefinedMetricWarning: Precision is ill-defined and being set to 0.0 due to no predicted samples. Use `zero_division` parameter to control this behavior.\n",
      "  _warn_prf(average, modifier, msg_start, len(result))\n",
      "/Users/ej7793/opt/anaconda3/lib/python3.7/site-packages/sklearn/metrics/_classification.py:1248: UndefinedMetricWarning: Precision is ill-defined and being set to 0.0 due to no predicted samples. Use `zero_division` parameter to control this behavior.\n",
      "  _warn_prf(average, modifier, msg_start, len(result))\n",
      "/Users/ej7793/opt/anaconda3/lib/python3.7/site-packages/sklearn/metrics/_classification.py:1248: UndefinedMetricWarning: Precision is ill-defined and being set to 0.0 due to no predicted samples. Use `zero_division` parameter to control this behavior.\n",
      "  _warn_prf(average, modifier, msg_start, len(result))\n",
      "/Users/ej7793/opt/anaconda3/lib/python3.7/site-packages/sklearn/metrics/_classification.py:1248: UndefinedMetricWarning: Precision is ill-defined and being set to 0.0 due to no predicted samples. Use `zero_division` parameter to control this behavior.\n",
      "  _warn_prf(average, modifier, msg_start, len(result))\n",
      "/Users/ej7793/opt/anaconda3/lib/python3.7/site-packages/sklearn/metrics/_classification.py:1248: UndefinedMetricWarning: Precision is ill-defined and being set to 0.0 due to no predicted samples. Use `zero_division` parameter to control this behavior.\n",
      "  _warn_prf(average, modifier, msg_start, len(result))\n",
      "/Users/ej7793/opt/anaconda3/lib/python3.7/site-packages/sklearn/metrics/_classification.py:1248: UndefinedMetricWarning: Precision is ill-defined and being set to 0.0 due to no predicted samples. Use `zero_division` parameter to control this behavior.\n",
      "  _warn_prf(average, modifier, msg_start, len(result))\n",
      "/Users/ej7793/opt/anaconda3/lib/python3.7/site-packages/sklearn/metrics/_classification.py:1248: UndefinedMetricWarning: Precision is ill-defined and being set to 0.0 due to no predicted samples. Use `zero_division` parameter to control this behavior.\n",
      "  _warn_prf(average, modifier, msg_start, len(result))\n"
     ]
    },
    {
     "data": {
      "text/plain": [
       "GridSearchCV(estimator=DecisionTreeClassifier(random_state=1),\n",
       "             param_grid={'max_depth': [1, 3, 5, 7],\n",
       "                         'min_samples_leaf': [1, 3, 5, 10, 50, 100]},\n",
       "             return_train_score=True, scoring='precision')"
      ]
     },
     "execution_count": 19,
     "metadata": {},
     "output_type": "execute_result"
    }
   ],
   "source": [
    "from sklearn.model_selection import GridSearchCV\n",
    "param_grid = {\n",
    "              'max_depth': [1, 3, 5, 7],\n",
    "              'min_samples_leaf': [1, 3, 5, 10, 50, 100]}\n",
    "grid_lr = GridSearchCV(estimator =cart, param_grid= param_grid, scoring='precision', \n",
    "                        refit=True, return_train_score=True) \n",
    "grid_lr.fit(X,y)"
   ]
  },
  {
   "cell_type": "code",
   "execution_count": 20,
   "metadata": {},
   "outputs": [
    {
     "name": "stdout",
     "output_type": "stream",
     "text": [
      "DecisionTreeClassifier(max_depth=7, min_samples_leaf=100, random_state=1)\n",
      "{'max_depth': 7, 'min_samples_leaf': 100}\n"
     ]
    }
   ],
   "source": [
    "print(grid_lr.best_estimator_)\n",
    "\n",
    "print(grid_lr.best_params_)"
   ]
  },
  {
   "cell_type": "markdown",
   "metadata": {},
   "source": [
    "**New model after hyperparameter tuning**"
   ]
  },
  {
   "cell_type": "code",
   "execution_count": 21,
   "metadata": {},
   "outputs": [],
   "source": [
    "cart_tuned = grid_lr.best_estimator_\n"
   ]
  },
  {
   "cell_type": "code",
   "execution_count": 22,
   "metadata": {},
   "outputs": [
    {
     "name": "stdout",
     "output_type": "stream",
     "text": [
      "\n",
      "Model Report\n",
      "Accuracy on Train Data: 0.8507\n",
      "Precision on Train Data: 0.8049\n",
      "Recall on Train Data: 0.5344\n",
      "F1 score on Train Data: 0.6424\n",
      "CV Score : Mean - 0.7989 | Std - 0.03045 | Min - 0.7673 | Max - 0.8512\n",
      "Accuracy on Test Data: 0.849\n",
      "Precision on Test Data: 0.8003\n",
      "Recall on Test Data: 0.5252\n",
      "F1 score on Test Data: 0.6342\n",
      "Time:  0.6150476990000016\n"
     ]
    }
   ],
   "source": [
    "y_pred=modelfit(cart_tuned, X_train, X_test,predictors,target)"
   ]
  },
  {
   "cell_type": "code",
   "execution_count": 23,
   "metadata": {},
   "outputs": [
    {
     "name": "stdout",
     "output_type": "stream",
     "text": [
      "\n",
      "Model Report\n",
      "Accuracy on Train Data: 0.965\n",
      "Precision on Train Data: 0.9666\n",
      "Recall on Train Data: 0.8912\n",
      "F1 score on Train Data: 0.9274\n",
      "CV Score : Mean - 0.6492 | Std - 0.006087 | Min - 0.6413 | Max - 0.658\n",
      "Accuracy on Test Data: 0.8239\n",
      "Precision on Test Data: 0.6524\n",
      "Recall on Test Data: 0.6281\n",
      "F1 score on Test Data: 0.64\n",
      "Time:  1.0093891100000008\n"
     ]
    }
   ],
   "source": [
    "## compare with before hyper parameter tuning \n",
    "y_pred=modelfit(cart, X_train, X_test,predictors,target)"
   ]
  },
  {
   "cell_type": "markdown",
   "metadata": {},
   "source": [
    "**Learning curve after hyper parameter tuning**"
   ]
  },
  {
   "cell_type": "code",
   "execution_count": 24,
   "metadata": {
    "scrolled": true
   },
   "outputs": [
    {
     "data": {
      "image/png": "[encoded data removed]",
      "text/plain": [
       "<Figure size 432x288 with 1 Axes>"
      ]
     },
     "metadata": {
      "needs_background": "light"
     },
     "output_type": "display_data"
    }
   ],
   "source": [
    "disp = plot_roc_curve(cart_tuned, X_test[predictors], X_test[target])\n",
    "plot_roc_curve(cart,X_test[predictors], X_test[target], ax= disp.ax_);"
   ]
  },
  {
   "cell_type": "markdown",
   "metadata": {},
   "source": [
    "**ROC curve comafter hyper parameter tuning** "
   ]
  },
  {
   "cell_type": "code",
   "execution_count": 25,
   "metadata": {},
   "outputs": [
    {
     "data": {
      "text/plain": [
       "DecisionTreeClassifier(max_depth=7, min_samples_leaf=100, random_state=1)"
      ]
     },
     "execution_count": 25,
     "metadata": {},
     "output_type": "execute_result"
    }
   ],
   "source": [
    "cart_tuned.fit(X_train[predictors],X_train[target])"
   ]
  },
  {
   "cell_type": "code",
   "execution_count": 26,
   "metadata": {},
   "outputs": [
    {
     "name": "stderr",
     "output_type": "stream",
     "text": [
      "/Users/ej7793/opt/anaconda3/lib/python3.7/site-packages/sklearn/metrics/_classification.py:1248: UndefinedMetricWarning: Precision is ill-defined and being set to 0.0 due to no predicted samples. Use `zero_division` parameter to control this behavior.\n",
      "  _warn_prf(average, modifier, msg_start, len(result))\n",
      "/Users/ej7793/opt/anaconda3/lib/python3.7/site-packages/sklearn/metrics/_classification.py:1248: UndefinedMetricWarning: Precision is ill-defined and being set to 0.0 due to no predicted samples. Use `zero_division` parameter to control this behavior.\n",
      "  _warn_prf(average, modifier, msg_start, len(result))\n",
      "/Users/ej7793/opt/anaconda3/lib/python3.7/site-packages/sklearn/metrics/_classification.py:1248: UndefinedMetricWarning: Precision is ill-defined and being set to 0.0 due to no predicted samples. Use `zero_division` parameter to control this behavior.\n",
      "  _warn_prf(average, modifier, msg_start, len(result))\n",
      "/Users/ej7793/opt/anaconda3/lib/python3.7/site-packages/sklearn/metrics/_classification.py:1248: UndefinedMetricWarning: Precision is ill-defined and being set to 0.0 due to no predicted samples. Use `zero_division` parameter to control this behavior.\n",
      "  _warn_prf(average, modifier, msg_start, len(result))\n",
      "/Users/ej7793/opt/anaconda3/lib/python3.7/site-packages/sklearn/metrics/_classification.py:1248: UndefinedMetricWarning: Precision is ill-defined and being set to 0.0 due to no predicted samples. Use `zero_division` parameter to control this behavior.\n",
      "  _warn_prf(average, modifier, msg_start, len(result))\n",
      "/Users/ej7793/opt/anaconda3/lib/python3.7/site-packages/sklearn/metrics/_classification.py:1248: UndefinedMetricWarning: Precision is ill-defined and being set to 0.0 due to no predicted samples. Use `zero_division` parameter to control this behavior.\n",
      "  _warn_prf(average, modifier, msg_start, len(result))\n",
      "/Users/ej7793/opt/anaconda3/lib/python3.7/site-packages/sklearn/metrics/_classification.py:1248: UndefinedMetricWarning: Precision is ill-defined and being set to 0.0 due to no predicted samples. Use `zero_division` parameter to control this behavior.\n",
      "  _warn_prf(average, modifier, msg_start, len(result))\n",
      "/Users/ej7793/opt/anaconda3/lib/python3.7/site-packages/sklearn/metrics/_classification.py:1248: UndefinedMetricWarning: Precision is ill-defined and being set to 0.0 due to no predicted samples. Use `zero_division` parameter to control this behavior.\n",
      "  _warn_prf(average, modifier, msg_start, len(result))\n",
      "/Users/ej7793/opt/anaconda3/lib/python3.7/site-packages/sklearn/metrics/_classification.py:1248: UndefinedMetricWarning: Precision is ill-defined and being set to 0.0 due to no predicted samples. Use `zero_division` parameter to control this behavior.\n",
      "  _warn_prf(average, modifier, msg_start, len(result))\n",
      "/Users/ej7793/opt/anaconda3/lib/python3.7/site-packages/sklearn/metrics/_classification.py:1248: UndefinedMetricWarning: Precision is ill-defined and being set to 0.0 due to no predicted samples. Use `zero_division` parameter to control this behavior.\n",
      "  _warn_prf(average, modifier, msg_start, len(result))\n"
     ]
    },
    {
     "data": {
      "image/png": "[encoded data removed]",
      "text/plain": [
       "<Figure size 432x288 with 1 Axes>"
      ]
     },
     "metadata": {
      "needs_background": "light"
     },
     "output_type": "display_data"
    },
    {
     "data": {
      "image/png": "[encoded data removed]",
      "text/plain": [
       "<Figure size 432x288 with 1 Axes>"
      ]
     },
     "metadata": {
      "needs_background": "light"
     },
     "output_type": "display_data"
    }
   ],
   "source": [
    "disp = plot_learning_curve(cart_tuned, X, y, 'precision', 'DecisionTree_hyperparameter_tuned')\n",
    "plot_learning_curve(cart, X, y, 'precision', 'DecisionTree');"
   ]
  },
  {
   "cell_type": "markdown",
   "metadata": {},
   "source": [
    "## Final prediction results and performance "
   ]
  },
  {
   "cell_type": "code",
   "execution_count": 27,
   "metadata": {},
   "outputs": [
    {
     "name": "stdout",
     "output_type": "stream",
     "text": [
      "\n",
      "Model Report\n",
      "Accuracy on Train Data: 0.8507\n",
      "Precision on Train Data: 0.8049\n",
      "Recall on Train Data: 0.5344\n",
      "F1 score on Train Data: 0.6424\n",
      "CV Score : Mean - 0.7989 | Std - 0.03045 | Min - 0.7673 | Max - 0.8512\n",
      "Accuracy on Test Data: 0.8512\n",
      "Precision on Test Data: 0.8021\n",
      "Recall on Test Data: 0.5277\n",
      "F1 score on Test Data: 0.6366\n",
      "Time:  0.6161472970000119\n"
     ]
    }
   ],
   "source": [
    "y_pred=modelfit(cart_tuned, X_train, X_final_test,predictors,target)"
   ]
  }
 ],
 "metadata": {
  "kernelspec": {
   "display_name": "Python 3",
   "language": "python",
   "name": "python3"
  },
  "language_info": {
   "codemirror_mode": {
    "name": "ipython",
    "version": 3
   },
   "file_extension": ".py",
   "mimetype": "text/x-python",
   "name": "python",
   "nbconvert_exporter": "python",
   "pygments_lexer": "ipython3",
   "version": "3.7.4"
  }
 },
 "nbformat": 4,
 "nbformat_minor": 2
}

{
 "cells": [
  {
   "cell_type": "markdown",
   "metadata": {},
   "source": [
    "# SVM Modeling and hyperparameter tuning\n",
    "\n",
    "\n"
   ]
  },
  {
   "cell_type": "code",
   "execution_count": 1,
   "metadata": {},
   "outputs": [],
   "source": [
    "import pandas as pd\n",
    "import plotly\n",
    "from sklearn.model_selection import train_test_split\n",
    "from sklearn.linear_model import LinearRegression\n",
    "from sklearn.linear_model import Ridge\n",
    "from sklearn import linear_model\n",
    "from sklearn import metrics\n",
    "from sklearn.model_selection import cross_val_score\n",
    "import timeit\n",
    "import plotly.express as px\n",
    "import numpy as np\n",
    "import matplotlib.pyplot as plt\n",
    "from sklearn.model_selection import validation_curve\n",
    "import warnings\n",
    "warnings.filterwarnings(action='once')"
   ]
  },
  {
   "cell_type": "code",
   "execution_count": 2,
   "metadata": {},
   "outputs": [
    {
     "data": {
      "text/plain": [
       "'/Users/ej7793/Documents/CreditCard/src'"
      ]
     },
     "execution_count": 2,
     "metadata": {},
     "output_type": "execute_result"
    }
   ],
   "source": [
    "import os\n",
    "os.getcwd()"
   ]
  },
  {
   "cell_type": "code",
   "execution_count": 3,
   "metadata": {},
   "outputs": [],
   "source": [
    "df = pd.read_csv('../Data/feature_engineered.csv')\n",
    "\n",
    "predictor_list = pd.read_pickle(r'../src/predictor_list')"
   ]
  },
  {
   "cell_type": "code",
   "execution_count": 4,
   "metadata": {},
   "outputs": [
    {
     "data": {
      "text/html": [
       "<div>\n",
       "<style scoped>\n",
       "    .dataframe tbody tr th:only-of-type {\n",
       "        vertical-align: middle;\n",
       "    }\n",
       "\n",
       "    .dataframe tbody tr th {\n",
       "        vertical-align: top;\n",
       "    }\n",
       "\n",
       "    .dataframe thead th {\n",
       "        text-align: right;\n",
       "    }\n",
       "</style>\n",
       "<table border=\"1\" class=\"dataframe\">\n",
       "  <thead>\n",
       "    <tr style=\"text-align: right;\">\n",
       "      <th></th>\n",
       "      <th>education_num</th>\n",
       "      <th>hours_per_week</th>\n",
       "      <th>approved</th>\n",
       "      <th>married</th>\n",
       "      <th>hours</th>\n",
       "      <th>capital_net</th>\n",
       "      <th>inquiry</th>\n",
       "      <th>institution_BRO</th>\n",
       "      <th>institution_PVT</th>\n",
       "      <th>account_type_high_approval</th>\n",
       "      <th>...</th>\n",
       "      <th>occupation_ Tech-support</th>\n",
       "      <th>occupation_ Transport-moving</th>\n",
       "      <th>asset_code_1.0</th>\n",
       "      <th>asset_code_2.0</th>\n",
       "      <th>asset_code_4.0</th>\n",
       "      <th>asset_code_19.0</th>\n",
       "      <th>portfolio_type_F</th>\n",
       "      <th>portfolio_type_I</th>\n",
       "      <th>portfolio_type_M</th>\n",
       "      <th>portfolio_type_R</th>\n",
       "    </tr>\n",
       "  </thead>\n",
       "  <tbody>\n",
       "    <tr>\n",
       "      <th>count</th>\n",
       "      <td>43843.000000</td>\n",
       "      <td>43843.000000</td>\n",
       "      <td>43843.000000</td>\n",
       "      <td>43843.000000</td>\n",
       "      <td>43843.000000</td>\n",
       "      <td>43843.000000</td>\n",
       "      <td>43843.000000</td>\n",
       "      <td>43843.000000</td>\n",
       "      <td>43843.000000</td>\n",
       "      <td>43843.000000</td>\n",
       "      <td>...</td>\n",
       "      <td>43843.000000</td>\n",
       "      <td>43843.000000</td>\n",
       "      <td>43843.000000</td>\n",
       "      <td>43843.000000</td>\n",
       "      <td>43843.000000</td>\n",
       "      <td>43843.000000</td>\n",
       "      <td>43843.000000</td>\n",
       "      <td>43843.000000</td>\n",
       "      <td>43843.000000</td>\n",
       "      <td>43843.000000</td>\n",
       "    </tr>\n",
       "    <tr>\n",
       "      <th>mean</th>\n",
       "      <td>10.120202</td>\n",
       "      <td>40.940675</td>\n",
       "      <td>0.249869</td>\n",
       "      <td>0.467669</td>\n",
       "      <td>0.777182</td>\n",
       "      <td>557.719499</td>\n",
       "      <td>0.360765</td>\n",
       "      <td>0.006911</td>\n",
       "      <td>0.580731</td>\n",
       "      <td>0.001163</td>\n",
       "      <td>...</td>\n",
       "      <td>0.031544</td>\n",
       "      <td>0.051411</td>\n",
       "      <td>0.968342</td>\n",
       "      <td>0.025933</td>\n",
       "      <td>0.004379</td>\n",
       "      <td>0.001346</td>\n",
       "      <td>0.000342</td>\n",
       "      <td>0.382296</td>\n",
       "      <td>0.025204</td>\n",
       "      <td>0.592158</td>\n",
       "    </tr>\n",
       "    <tr>\n",
       "      <th>std</th>\n",
       "      <td>2.555691</td>\n",
       "      <td>12.014723</td>\n",
       "      <td>0.432942</td>\n",
       "      <td>0.498959</td>\n",
       "      <td>0.416142</td>\n",
       "      <td>2601.498611</td>\n",
       "      <td>0.480228</td>\n",
       "      <td>0.082846</td>\n",
       "      <td>0.493445</td>\n",
       "      <td>0.034087</td>\n",
       "      <td>...</td>\n",
       "      <td>0.174786</td>\n",
       "      <td>0.220837</td>\n",
       "      <td>0.175091</td>\n",
       "      <td>0.158939</td>\n",
       "      <td>0.066032</td>\n",
       "      <td>0.036660</td>\n",
       "      <td>0.018494</td>\n",
       "      <td>0.485954</td>\n",
       "      <td>0.156745</td>\n",
       "      <td>0.491439</td>\n",
       "    </tr>\n",
       "    <tr>\n",
       "      <th>min</th>\n",
       "      <td>1.000000</td>\n",
       "      <td>1.000000</td>\n",
       "      <td>0.000000</td>\n",
       "      <td>0.000000</td>\n",
       "      <td>0.000000</td>\n",
       "      <td>-4356.000000</td>\n",
       "      <td>0.000000</td>\n",
       "      <td>0.000000</td>\n",
       "      <td>0.000000</td>\n",
       "      <td>0.000000</td>\n",
       "      <td>...</td>\n",
       "      <td>0.000000</td>\n",
       "      <td>0.000000</td>\n",
       "      <td>0.000000</td>\n",
       "      <td>0.000000</td>\n",
       "      <td>0.000000</td>\n",
       "      <td>0.000000</td>\n",
       "      <td>0.000000</td>\n",
       "      <td>0.000000</td>\n",
       "      <td>0.000000</td>\n",
       "      <td>0.000000</td>\n",
       "    </tr>\n",
       "    <tr>\n",
       "      <th>25%</th>\n",
       "      <td>9.000000</td>\n",
       "      <td>40.000000</td>\n",
       "      <td>0.000000</td>\n",
       "      <td>0.000000</td>\n",
       "      <td>1.000000</td>\n",
       "      <td>0.000000</td>\n",
       "      <td>0.000000</td>\n",
       "      <td>0.000000</td>\n",
       "      <td>0.000000</td>\n",
       "      <td>0.000000</td>\n",
       "      <td>...</td>\n",
       "      <td>0.000000</td>\n",
       "      <td>0.000000</td>\n",
       "      <td>1.000000</td>\n",
       "      <td>0.000000</td>\n",
       "      <td>0.000000</td>\n",
       "      <td>0.000000</td>\n",
       "      <td>0.000000</td>\n",
       "      <td>0.000000</td>\n",
       "      <td>0.000000</td>\n",
       "      <td>0.000000</td>\n",
       "    </tr>\n",
       "    <tr>\n",
       "      <th>50%</th>\n",
       "      <td>10.000000</td>\n",
       "      <td>40.000000</td>\n",
       "      <td>0.000000</td>\n",
       "      <td>0.000000</td>\n",
       "      <td>1.000000</td>\n",
       "      <td>0.000000</td>\n",
       "      <td>0.000000</td>\n",
       "      <td>0.000000</td>\n",
       "      <td>1.000000</td>\n",
       "      <td>0.000000</td>\n",
       "      <td>...</td>\n",
       "      <td>0.000000</td>\n",
       "      <td>0.000000</td>\n",
       "      <td>1.000000</td>\n",
       "      <td>0.000000</td>\n",
       "      <td>0.000000</td>\n",
       "      <td>0.000000</td>\n",
       "      <td>0.000000</td>\n",
       "      <td>0.000000</td>\n",
       "      <td>0.000000</td>\n",
       "      <td>1.000000</td>\n",
       "    </tr>\n",
       "    <tr>\n",
       "      <th>75%</th>\n",
       "      <td>13.000000</td>\n",
       "      <td>45.000000</td>\n",
       "      <td>0.000000</td>\n",
       "      <td>1.000000</td>\n",
       "      <td>1.000000</td>\n",
       "      <td>0.000000</td>\n",
       "      <td>1.000000</td>\n",
       "      <td>0.000000</td>\n",
       "      <td>1.000000</td>\n",
       "      <td>0.000000</td>\n",
       "      <td>...</td>\n",
       "      <td>0.000000</td>\n",
       "      <td>0.000000</td>\n",
       "      <td>1.000000</td>\n",
       "      <td>0.000000</td>\n",
       "      <td>0.000000</td>\n",
       "      <td>0.000000</td>\n",
       "      <td>0.000000</td>\n",
       "      <td>1.000000</td>\n",
       "      <td>0.000000</td>\n",
       "      <td>1.000000</td>\n",
       "    </tr>\n",
       "    <tr>\n",
       "      <th>max</th>\n",
       "      <td>16.000000</td>\n",
       "      <td>99.000000</td>\n",
       "      <td>1.000000</td>\n",
       "      <td>1.000000</td>\n",
       "      <td>1.000000</td>\n",
       "      <td>15024.000000</td>\n",
       "      <td>1.000000</td>\n",
       "      <td>1.000000</td>\n",
       "      <td>1.000000</td>\n",
       "      <td>1.000000</td>\n",
       "      <td>...</td>\n",
       "      <td>1.000000</td>\n",
       "      <td>1.000000</td>\n",
       "      <td>1.000000</td>\n",
       "      <td>1.000000</td>\n",
       "      <td>1.000000</td>\n",
       "      <td>1.000000</td>\n",
       "      <td>1.000000</td>\n",
       "      <td>1.000000</td>\n",
       "      <td>1.000000</td>\n",
       "      <td>1.000000</td>\n",
       "    </tr>\n",
       "  </tbody>\n",
       "</table>\n",
       "<p>8 rows × 68 columns</p>\n",
       "</div>"
      ],
      "text/plain": [
       "       education_num  hours_per_week      approved       married  \\\n",
       "count   43843.000000    43843.000000  43843.000000  43843.000000   \n",
       "mean       10.120202       40.940675      0.249869      0.467669   \n",
       "std         2.555691       12.014723      0.432942      0.498959   \n",
       "min         1.000000        1.000000      0.000000      0.000000   \n",
       "25%         9.000000       40.000000      0.000000      0.000000   \n",
       "50%        10.000000       40.000000      0.000000      0.000000   \n",
       "75%        13.000000       45.000000      0.000000      1.000000   \n",
       "max        16.000000       99.000000      1.000000      1.000000   \n",
       "\n",
       "              hours   capital_net       inquiry  institution_BRO  \\\n",
       "count  43843.000000  43843.000000  43843.000000     43843.000000   \n",
       "mean       0.777182    557.719499      0.360765         0.006911   \n",
       "std        0.416142   2601.498611      0.480228         0.082846   \n",
       "min        0.000000  -4356.000000      0.000000         0.000000   \n",
       "25%        1.000000      0.000000      0.000000         0.000000   \n",
       "50%        1.000000      0.000000      0.000000         0.000000   \n",
       "75%        1.000000      0.000000      1.000000         0.000000   \n",
       "max        1.000000  15024.000000      1.000000         1.000000   \n",
       "\n",
       "       institution_PVT  account_type_high_approval  ...  \\\n",
       "count     43843.000000                43843.000000  ...   \n",
       "mean          0.580731                    0.001163  ...   \n",
       "std           0.493445                    0.034087  ...   \n",
       "min           0.000000                    0.000000  ...   \n",
       "25%           0.000000                    0.000000  ...   \n",
       "50%           1.000000                    0.000000  ...   \n",
       "75%           1.000000                    0.000000  ...   \n",
       "max           1.000000                    1.000000  ...   \n",
       "\n",
       "       occupation_ Tech-support  occupation_ Transport-moving  asset_code_1.0  \\\n",
       "count              43843.000000                  43843.000000    43843.000000   \n",
       "mean                   0.031544                      0.051411        0.968342   \n",
       "std                    0.174786                      0.220837        0.175091   \n",
       "min                    0.000000                      0.000000        0.000000   \n",
       "25%                    0.000000                      0.000000        1.000000   \n",
       "50%                    0.000000                      0.000000        1.000000   \n",
       "75%                    0.000000                      0.000000        1.000000   \n",
       "max                    1.000000                      1.000000        1.000000   \n",
       "\n",
       "       asset_code_2.0  asset_code_4.0  asset_code_19.0  portfolio_type_F  \\\n",
       "count    43843.000000    43843.000000     43843.000000      43843.000000   \n",
       "mean         0.025933        0.004379         0.001346          0.000342   \n",
       "std          0.158939        0.066032         0.036660          0.018494   \n",
       "min          0.000000        0.000000         0.000000          0.000000   \n",
       "25%          0.000000        0.000000         0.000000          0.000000   \n",
       "50%          0.000000        0.000000         0.000000          0.000000   \n",
       "75%          0.000000        0.000000         0.000000          0.000000   \n",
       "max          1.000000        1.000000         1.000000          1.000000   \n",
       "\n",
       "       portfolio_type_I  portfolio_type_M  portfolio_type_R  \n",
       "count      43843.000000      43843.000000      43843.000000  \n",
       "mean           0.382296          0.025204          0.592158  \n",
       "std            0.485954          0.156745          0.491439  \n",
       "min            0.000000          0.000000          0.000000  \n",
       "25%            0.000000          0.000000          0.000000  \n",
       "50%            0.000000          0.000000          1.000000  \n",
       "75%            1.000000          0.000000          1.000000  \n",
       "max            1.000000          1.000000          1.000000  \n",
       "\n",
       "[8 rows x 68 columns]"
      ]
     },
     "execution_count": 4,
     "metadata": {},
     "output_type": "execute_result"
    }
   ],
   "source": [
    "df.describe()"
   ]
  },
  {
   "cell_type": "code",
   "execution_count": 5,
   "metadata": {
    "scrolled": false
   },
   "outputs": [
    {
     "data": {
      "text/plain": [
       "user_id              object\n",
       "education_num       float64\n",
       "hours_per_week      float64\n",
       "approved              int64\n",
       "married               int64\n",
       "                     ...   \n",
       "asset_code_19.0       int64\n",
       "portfolio_type_F      int64\n",
       "portfolio_type_I      int64\n",
       "portfolio_type_M      int64\n",
       "portfolio_type_R      int64\n",
       "Length: 69, dtype: object"
      ]
     },
     "execution_count": 5,
     "metadata": {},
     "output_type": "execute_result"
    }
   ],
   "source": [
    "df.dtypes"
   ]
  },
  {
   "cell_type": "code",
   "execution_count": 6,
   "metadata": {},
   "outputs": [
    {
     "data": {
      "text/plain": [
       "Index(['user_id', 'education_num', 'hours_per_week', 'approved', 'married',\n",
       "       'hours', 'capital_net', 'inquiry', 'institution_BRO', 'institution_PVT',\n",
       "       'account_type_high_approval', 'account_type_mid_approval',\n",
       "       'gender_ Female', 'gender_ Male', 'age_group_mid_age',\n",
       "       'age_group_minor or senior', 'age_group_older_age', 'age_group_young',\n",
       "       'workclass_ Federal-gov', 'workclass_ Local-gov', 'workclass_ Private',\n",
       "       'workclass_ Self-emp-inc', 'workclass_ Self-emp-not-inc',\n",
       "       'workclass_ State-gov', 'workclass_ Without-pay',\n",
       "       'education_level_ 10th', 'education_level_ 11th',\n",
       "       'education_level_ 12th', 'education_level_ 1st-4th',\n",
       "       'education_level_ 5th-6th', 'education_level_ 7th-8th',\n",
       "       'education_level_ 9th', 'education_level_ Assoc-acdm',\n",
       "       'education_level_ Assoc-voc', 'education_level_ Bachelors',\n",
       "       'education_level_ Doctorate', 'education_level_ HS-grad',\n",
       "       'education_level_ Masters', 'education_level_ Preschool',\n",
       "       'education_level_ Prof-school', 'education_level_ Some-college',\n",
       "       'relationship_ Husband', 'relationship_ Not-in-family',\n",
       "       'relationship_ Other-relative', 'relationship_ Own-child',\n",
       "       'relationship_ Unmarried', 'relationship_ Wife',\n",
       "       'occupation_ Adm-clerical', 'occupation_ Armed-Forces',\n",
       "       'occupation_ Craft-repair', 'occupation_ Exec-managerial',\n",
       "       'occupation_ Farming-fishing', 'occupation_ Handlers-cleaners',\n",
       "       'occupation_ Machine-op-inspct', 'occupation_ Other-service',\n",
       "       'occupation_ Priv-house-serv', 'occupation_ Prof-specialty',\n",
       "       'occupation_ Protective-serv', 'occupation_ Sales',\n",
       "       'occupation_ Tech-support', 'occupation_ Transport-moving',\n",
       "       'asset_code_1.0', 'asset_code_2.0', 'asset_code_4.0', 'asset_code_19.0',\n",
       "       'portfolio_type_F', 'portfolio_type_I', 'portfolio_type_M',\n",
       "       'portfolio_type_R'],\n",
       "      dtype='object')"
      ]
     },
     "execution_count": 6,
     "metadata": {},
     "output_type": "execute_result"
    }
   ],
   "source": [
    "df.columns"
   ]
  },
  {
   "cell_type": "code",
   "execution_count": 7,
   "metadata": {},
   "outputs": [
    {
     "name": "stdout",
     "output_type": "stream",
     "text": [
      "records in training dataset\n",
      "6400\n",
      "records in validation dataset\n",
      "1600\n",
      "records in final testing dataset\n",
      "2000\n"
     ]
    }
   ],
   "source": [
    "df = df.sample(10000)\n",
    "\n",
    "X_train, X_final_test = train_test_split(df,test_size=0.2, random_state= 2)\n",
    "X_final_test.to_csv('../Data/testing_dataset.csv', index = False)\n",
    "## within the training dataset, split the data into training dataset and testing/validation dataset\n",
    "X_train, X_test = train_test_split(X_train,test_size=0.2, random_state= 2)\n",
    "print('records in training dataset')\n",
    "print(len(X_train))\n",
    "print('records in validation dataset')\n",
    "print(len(X_test))\n",
    "print('records in final testing dataset')\n",
    "print(len(X_final_test))"
   ]
  },
  {
   "cell_type": "code",
   "execution_count": 8,
   "metadata": {},
   "outputs": [],
   "source": [
    "predictors = predictor_list\n",
    "target = 'approved'\n"
   ]
  },
  {
   "cell_type": "code",
   "execution_count": 9,
   "metadata": {},
   "outputs": [],
   "source": [
    "def modelfit(estimator,data_train,data_test,predictors,target):\n",
    "    start = timeit.default_timer()\n",
    "    #fitting model\n",
    "    estimator.fit(data_train[predictors],data_train.loc[:,target])\n",
    "    #train data prediction\n",
    "    start1 = timeit.default_timer()\n",
    "    train_pred=estimator.predict(data_train[predictors])\n",
    "    stop1 = timeit.default_timer()\n",
    "    #cross_validation score\n",
    "    start3 = timeit.default_timer()\n",
    "#    cv_score=cross_val_score(estimator,data_train[predictors],data_train.loc[:,target],cv=5,scoring='precision')\n",
    "    stop3 = timeit.default_timer()\n",
    "    #Print model report:\n",
    "    print (\"\\nModel Report\")\n",
    "    print (\"Accuracy on Train Data: %.4g\" % metrics.accuracy_score(data_train.loc[:,target].values, train_pred))\n",
    "    print (\"Precision on Train Data: %.4g\" % metrics.precision_score(data_train.loc[:,target].values, train_pred))\n",
    "    print (\"Recall on Train Data: %.4g\" % metrics.recall_score(data_train.loc[:,target].values, train_pred))\n",
    "    print (\"F1 score on Train Data: %.4g\" % metrics.f1_score(data_train.loc[:,target].values, train_pred))\n",
    "    \n",
    "#    print (\"CV Score : Mean - %.4g | Std - %.4g | Min - %.4g | Max - %.4g\" % (np.mean(cv_score),np.std(cv_score),np.min(cv_score),np.max(cv_score)))\n",
    "    start2 = timeit.default_timer()\n",
    "    test_pred=estimator.predict(data_test[predictors])\n",
    "    stop2 = timeit.default_timer()\n",
    "    print (\"Accuracy on Test Data: %.4g\" % metrics.accuracy_score(data_test.loc[:,target].values, test_pred))  \n",
    "    print (\"Precision on Test Data: %.4g\" % metrics.precision_score(data_test.loc[:,target].values, test_pred)) \n",
    "    print (\"Recall on Test Data: %.4g\" % metrics.recall_score(data_test.loc[:,target].values, test_pred)) \n",
    "    print (\"F1 score on Test Data: %.4g\" % metrics.f1_score(data_test.loc[:,target].values, test_pred)) \n",
    "    stop = timeit.default_timer()\n",
    "    print('Total Time: ', stop - start)\n",
    "    print('training time: ', stop1 - start1)\n",
    "    print('testing time: ', stop2 - start2)\n",
    "#    print('CV time:', stop3 - start3)\n",
    "    return test_pred\n",
    "\n"
   ]
  },
  {
   "cell_type": "code",
   "execution_count": 10,
   "metadata": {},
   "outputs": [
    {
     "data": {
      "text/plain": [
       "0    0.735625\n",
       "1    0.264375\n",
       "Name: approved, dtype: float64"
      ]
     },
     "execution_count": 10,
     "metadata": {},
     "output_type": "execute_result"
    }
   ],
   "source": [
    "X_test.approved.value_counts(normalize =True)"
   ]
  },
  {
   "cell_type": "code",
   "execution_count": 11,
   "metadata": {},
   "outputs": [],
   "source": [
    "## create learning curve ploting function\n",
    "\n",
    "from sklearn.model_selection import learning_curve\n",
    "##learning curve\n",
    "# Obtain scores from learning curve function\n",
    "# cv is the number of folds while performing Cross Validation\n",
    "def plot_learning_curve(alg, X, y, scoring_metric, algorithm_name):\n",
    "    sizes, training_scores, testing_scores = learning_curve(alg, X, y, cv = 5, scoring= scoring_metric, train_sizes=np.linspace(0.01, 1.0, 30))\n",
    "\n",
    "    # Mean and Standard Deviation of training scores\n",
    "    mean_training = np.mean(training_scores, axis=1)\n",
    "    Standard_Deviation_training = np.std(training_scores, axis=1)\n",
    "\n",
    "    # Mean and Standard Deviation of testing scores\n",
    "    mean_testing = np.mean(testing_scores, axis=1)\n",
    "    Standard_Deviation_testing = np.std(testing_scores, axis=1)\n",
    "\n",
    "    # dotted blue line is for training scores and green line is for cross-validation score\n",
    "    plt.plot(sizes, mean_training, '--', color=\"b\",  label=\"Training score\")\n",
    "    plt.plot(sizes, mean_testing, color=\"g\", label=\"Cross-validation score\")\n",
    "\n",
    "    # Drawing plot\n",
    "    plt.title(\"LEARNING CURVE FOR %s\" % algorithm_name)\n",
    "    plt.xlabel(\"Training Set Size\"), plt.ylabel(\"%s Score\" % scoring_metric), plt.legend(loc=\"best\")\n",
    "    plt.tight_layout()\n",
    "    plt.show()\n",
    "    return"
   ]
  },
  {
   "cell_type": "code",
   "execution_count": 12,
   "metadata": {},
   "outputs": [],
   "source": [
    "# create validation curve ploting function\n",
    "\n",
    "\n",
    " \n",
    "# Calculate accuracy on training and test set using the\n",
    "# gamma parameter with 5-fold cross validation\n",
    "def plot_validation_curve(alg,X, y, param_name, parameter_range, scoring_metric, algorithm_name):\n",
    "    start = timeit.default_timer()\n",
    "    train_score, test_score = validation_curve(alg, X, y,\n",
    "                                           param_name = param_name,\n",
    "                                           param_range = parameter_range,\n",
    "                                         scoring = scoring_metric)\n",
    "\n",
    "    # Calculating mean and standard deviation of training score\n",
    "    mean_train_score = np.mean(train_score, axis = 1)\n",
    "    std_train_score = np.std(train_score, axis = 1)\n",
    "\n",
    "    # Calculating mean and standard deviation of testing score\n",
    "    mean_test_score = np.mean(test_score, axis = 1)\n",
    "    std_test_score = np.std(test_score, axis = 1)\n",
    "\n",
    "    # Plot mean accuracy scores for training and testing scores\n",
    "    plt.plot(parameter_range, mean_train_score,\n",
    "         label = \"Training Score\", color = 'b')\n",
    "    plt.plot(parameter_range, mean_test_score,\n",
    "       label = \"Cross Validation Score\", color = 'g')\n",
    "\n",
    "    # Creating the plot\n",
    "    plt.title(\"Validation Curve with %s\" % algorithm_name)\n",
    "    plt.xlabel(\"%s\" % param_name)\n",
    "    plt.ylabel(\"%s\" % scoring_metric)\n",
    "    plt.tight_layout()\n",
    "    plt.legend(loc = 'best')\n",
    "    plt.show()\n",
    "    stop = timeit.default_timer()\n",
    "    print('Time: ', stop - start)\n",
    "    return"
   ]
  },
  {
   "cell_type": "markdown",
   "metadata": {},
   "source": [
    "## Modeling"
   ]
  },
  {
   "cell_type": "markdown",
   "metadata": {},
   "source": [
    "**SVM**"
   ]
  },
  {
   "cell_type": "code",
   "execution_count": 13,
   "metadata": {
    "scrolled": false
   },
   "outputs": [
    {
     "name": "stdout",
     "output_type": "stream",
     "text": [
      "\n",
      "Model Report\n",
      "Accuracy on Train Data: 0.8048\n",
      "Precision on Train Data: 0.8316\n",
      "Recall on Train Data: 0.2937\n",
      "F1 score on Train Data: 0.4341\n",
      "Accuracy on Test Data: 0.7925\n",
      "Precision on Test Data: 0.8054\n",
      "Recall on Test Data: 0.2837\n",
      "F1 score on Test Data: 0.4196\n",
      "Total Time:  4.708416079000003\n",
      "training time:  2.890160398000006\n",
      "testing time:  0.7816504240000057\n"
     ]
    }
   ],
   "source": [
    "from sklearn.svm import SVC\n",
    "svm = SVC(random_state =1)\n",
    "y_pred=modelfit(svm, X_train, X_test,predictors,target)"
   ]
  },
  {
   "cell_type": "code",
   "execution_count": 14,
   "metadata": {},
   "outputs": [
    {
     "data": {
      "text/plain": [
       "Counter({0: 1468, 1: 132})"
      ]
     },
     "execution_count": 14,
     "metadata": {},
     "output_type": "execute_result"
    }
   ],
   "source": [
    "from collections import Counter\n",
    "Counter(y_pred)"
   ]
  },
  {
   "cell_type": "markdown",
   "metadata": {},
   "source": [
    "**Learning curve**\n",
    "\n",
    "Based on the learning curve, we can see that the training curve and the cross validation curve converges at 2000 samples"
   ]
  },
  {
   "cell_type": "code",
   "execution_count": 15,
   "metadata": {},
   "outputs": [],
   "source": [
    "X_train_test = X_train.sample(5000)\n",
    "X = X_train_test[predictors]\n",
    "y = X_train_test[target]"
   ]
  },
  {
   "cell_type": "code",
   "execution_count": 16,
   "metadata": {
    "scrolled": false
   },
   "outputs": [
    {
     "data": {
      "image/png": "[encoded data removed]",
      "text/plain": [
       "<Figure size 432x288 with 1 Axes>"
      ]
     },
     "metadata": {
      "needs_background": "light"
     },
     "output_type": "display_data"
    }
   ],
   "source": [
    "plot_learning_curve(svm, X, y, 'precision', 'Support Vector Classifer')"
   ]
  },
  {
   "cell_type": "markdown",
   "metadata": {},
   "source": [
    "**Validation curve**"
   ]
  },
  {
   "cell_type": "code",
   "execution_count": 17,
   "metadata": {},
   "outputs": [
    {
     "data": {
      "image/png": "[encoded data removed]",
      "text/plain": [
       "<Figure size 432x288 with 1 Axes>"
      ]
     },
     "metadata": {
      "needs_background": "light"
     },
     "output_type": "display_data"
    },
    {
     "name": "stdout",
     "output_type": "stream",
     "text": [
      "Time:  51.140216244000015\n"
     ]
    }
   ],
   "source": [
    "## validation curve\n",
    "##C\n",
    "\n",
    "\n",
    "parameter_range = [0.01, 0.1, 1, 5, 10]\n",
    " \n",
    "plot_validation_curve(svm,X, y, \"C\", parameter_range, \"precision\", 'support_vector_classifer')"
   ]
  },
  {
   "cell_type": "code",
   "execution_count": 18,
   "metadata": {},
   "outputs": [],
   "source": [
    "X_train_test = X_train.sample(1000)\n",
    "X = X_train_test[predictors]\n",
    "y = X_train_test[target]"
   ]
  },
  {
   "cell_type": "code",
   "execution_count": null,
   "metadata": {},
   "outputs": [],
   "source": []
  },
  {
   "cell_type": "code",
   "execution_count": 19,
   "metadata": {
    "scrolled": true
   },
   "outputs": [
    {
     "data": {
      "image/png": "[encoded data removed]",
      "text/plain": [
       "<Figure size 432x288 with 1 Axes>"
      ]
     },
     "metadata": {
      "needs_background": "light"
     },
     "output_type": "display_data"
    },
    {
     "name": "stdout",
     "output_type": "stream",
     "text": [
      "Time:  0.9967429139999808\n"
     ]
    }
   ],
   "source": [
    "##Validation curve \n",
    "# Kernel\n",
    "## no over fitting underfitting issues\n",
    "## choose highest \n",
    "from sklearn.model_selection import validation_curve\n",
    "\n",
    "parameter_range = ['poly', 'rbf', 'sigmoid']\n",
    "plot_validation_curve(svm,X, y, \"kernel\", parameter_range, \"precision\", 'support_vector_classifer')\n",
    "\n"
   ]
  },
  {
   "cell_type": "code",
   "execution_count": 20,
   "metadata": {},
   "outputs": [
    {
     "name": "stderr",
     "output_type": "stream",
     "text": [
      "/Users/ej7793/opt/anaconda3/lib/python3.7/site-packages/sklearn/metrics/_classification.py:1248: UndefinedMetricWarning: Precision is ill-defined and being set to 0.0 due to no predicted samples. Use `zero_division` parameter to control this behavior.\n",
      "  _warn_prf(average, modifier, msg_start, len(result))\n",
      "/Users/ej7793/opt/anaconda3/lib/python3.7/site-packages/sklearn/metrics/_classification.py:1248: UndefinedMetricWarning: Precision is ill-defined and being set to 0.0 due to no predicted samples. Use `zero_division` parameter to control this behavior.\n",
      "  _warn_prf(average, modifier, msg_start, len(result))\n",
      "/Users/ej7793/opt/anaconda3/lib/python3.7/site-packages/sklearn/metrics/_classification.py:1248: UndefinedMetricWarning: Precision is ill-defined and being set to 0.0 due to no predicted samples. Use `zero_division` parameter to control this behavior.\n",
      "  _warn_prf(average, modifier, msg_start, len(result))\n"
     ]
    },
    {
     "data": {
      "image/png": "[encoded data removed]",
      "text/plain": [
       "<Figure size 432x288 with 1 Axes>"
      ]
     },
     "metadata": {
      "needs_background": "light"
     },
     "output_type": "display_data"
    },
    {
     "name": "stdout",
     "output_type": "stream",
     "text": [
      "Time:  3.1663492870000027\n"
     ]
    }
   ],
   "source": [
    "##Gamma\n",
    "parameter_range = [0.01,0.1, 1, 10]\n",
    "plot_validation_curve(svm,X, y, \"gamma\", parameter_range, \"precision\", 'support_vector_classifer')"
   ]
  },
  {
   "cell_type": "code",
   "execution_count": 21,
   "metadata": {},
   "outputs": [
    {
     "data": {
      "text/plain": [
       "dict_keys(['C', 'break_ties', 'cache_size', 'class_weight', 'coef0', 'decision_function_shape', 'degree', 'gamma', 'kernel', 'max_iter', 'probability', 'random_state', 'shrinking', 'tol', 'verbose'])"
      ]
     },
     "execution_count": 21,
     "metadata": {},
     "output_type": "execute_result"
    }
   ],
   "source": [
    "svm.get_params().keys()"
   ]
  },
  {
   "cell_type": "code",
   "execution_count": 22,
   "metadata": {
    "scrolled": true
   },
   "outputs": [
    {
     "data": {
      "text/plain": [
       "<sklearn.metrics._plot.roc_curve.RocCurveDisplay at 0x7ffa34d24590>"
      ]
     },
     "execution_count": 22,
     "metadata": {},
     "output_type": "execute_result"
    },
    {
     "data": {
      "image/png": "[encoded data removed]",
      "text/plain": [
       "<Figure size 432x288 with 1 Axes>"
      ]
     },
     "metadata": {
      "needs_background": "light"
     },
     "output_type": "display_data"
    }
   ],
   "source": [
    "## ROC curve\n",
    "from sklearn.metrics import confusion_matrix, classification_report, plot_roc_curve\n",
    "\n",
    "plot_roc_curve(svm, X_test[predictors], X_test[target])"
   ]
  },
  {
   "cell_type": "code",
   "execution_count": 16,
   "metadata": {},
   "outputs": [
    {
     "data": {
      "text/plain": [
       "GridSearchCV(estimator=SVC(random_state=1),\n",
       "             param_grid={'C': [0.1, 1], 'gamma': [0.01, 0.1],\n",
       "                         'kernel': ['rbf']},\n",
       "             return_train_score=True, scoring='precision')"
      ]
     },
     "execution_count": 16,
     "metadata": {},
     "output_type": "execute_result"
    }
   ],
   "source": [
    "## hyperparameter tuning \n",
    "##GridSearch\n",
    "from sklearn.model_selection import GridSearchCV\n",
    "param_grid = {'gamma': [0.01,0.1],\n",
    "              'kernel': ['rbf'],\n",
    "              'C':[0.1,1]\n",
    "             }\n",
    "grid_lr = GridSearchCV(estimator =svm, param_grid= param_grid, scoring='precision', \n",
    "                        refit=True, return_train_score=True) \n",
    "grid_lr.fit(X_train_test[predictors],X_train_test[target])\n"
   ]
  },
  {
   "cell_type": "code",
   "execution_count": 17,
   "metadata": {},
   "outputs": [
    {
     "name": "stdout",
     "output_type": "stream",
     "text": [
      "SVC(C=0.1, gamma=0.01, random_state=1)\n",
      "{'C': 0.1, 'gamma': 0.01, 'kernel': 'rbf'}\n"
     ]
    }
   ],
   "source": [
    "print(grid_lr.best_estimator_)\n",
    "\n",
    "print(grid_lr.best_params_)"
   ]
  },
  {
   "cell_type": "code",
   "execution_count": 18,
   "metadata": {},
   "outputs": [
    {
     "data": {
      "text/plain": [
       "{'C': 1.0,\n",
       " 'break_ties': False,\n",
       " 'cache_size': 200,\n",
       " 'class_weight': None,\n",
       " 'coef0': 0.0,\n",
       " 'decision_function_shape': 'ovr',\n",
       " 'degree': 3,\n",
       " 'gamma': 'scale',\n",
       " 'kernel': 'rbf',\n",
       " 'max_iter': -1,\n",
       " 'probability': False,\n",
       " 'random_state': 1,\n",
       " 'shrinking': True,\n",
       " 'tol': 0.001,\n",
       " 'verbose': False}"
      ]
     },
     "execution_count": 18,
     "metadata": {},
     "output_type": "execute_result"
    }
   ],
   "source": [
    "svm.get_params()"
   ]
  },
  {
   "cell_type": "markdown",
   "metadata": {},
   "source": [
    "**New model after hyperparameter tuning**"
   ]
  },
  {
   "cell_type": "code",
   "execution_count": 20,
   "metadata": {},
   "outputs": [
    {
     "name": "stdout",
     "output_type": "stream",
     "text": [
      "\n",
      "Model Report\n",
      "Accuracy on Train Data: 0.8167\n",
      "Precision on Train Data: 0.9712\n",
      "Recall on Train Data: 0.2894\n",
      "F1 score on Train Data: 0.4459\n",
      "Accuracy on Test Data: 0.8\n",
      "Precision on Test Data: 0.9187\n",
      "Recall on Test Data: 0.2671\n",
      "F1 score on Test Data: 0.4139\n",
      "Total Time:  4.761320393999995\n",
      "training time:  2.924010350000003\n",
      "testing time:  0.7209046979999982\n"
     ]
    }
   ],
   "source": [
    "svm_tuned = SVC(gamma=0.01,kernel = 'rbf',C = 0.1, random_state = 1)\n",
    "y_pred=modelfit(svm_tuned, X_train, X_test,predictors,target)"
   ]
  },
  {
   "cell_type": "code",
   "execution_count": 21,
   "metadata": {},
   "outputs": [
    {
     "name": "stdout",
     "output_type": "stream",
     "text": [
      "\n",
      "Model Report\n",
      "Accuracy on Train Data: 0.8048\n",
      "Precision on Train Data: 0.8316\n",
      "Recall on Train Data: 0.2937\n",
      "F1 score on Train Data: 0.4341\n",
      "Accuracy on Test Data: 0.7925\n",
      "Precision on Test Data: 0.8054\n",
      "Recall on Test Data: 0.2837\n",
      "F1 score on Test Data: 0.4196\n",
      "Total Time:  4.32346367599996\n",
      "training time:  2.6947421340000233\n",
      "testing time:  0.6600846009999941\n"
     ]
    }
   ],
   "source": [
    "## compare with before hyper parameter tuning \n",
    "y_pred=modelfit(svm, X_train, X_test,predictors,target)"
   ]
  },
  {
   "cell_type": "markdown",
   "metadata": {},
   "source": [
    "**ROC curve after hyper parameter tuning**"
   ]
  },
  {
   "cell_type": "code",
   "execution_count": 23,
   "metadata": {},
   "outputs": [
    {
     "data": {
      "image/png": "[encoded data removed]",
      "text/plain": [
       "<Figure size 432x288 with 1 Axes>"
      ]
     },
     "metadata": {
      "needs_background": "light"
     },
     "output_type": "display_data"
    }
   ],
   "source": [
    "from sklearn.metrics import confusion_matrix, classification_report, plot_roc_curve\n",
    "\n",
    "disp = plot_roc_curve(svm_tuned, X_test[predictors], X_test[target])\n",
    "plot_roc_curve(svm,X_test[predictors], X_test[target], ax= disp.ax_);"
   ]
  },
  {
   "cell_type": "markdown",
   "metadata": {},
   "source": [
    "**Learning curve after hyper parameter tuning**"
   ]
  },
  {
   "cell_type": "code",
   "execution_count": 26,
   "metadata": {},
   "outputs": [
    {
     "name": "stderr",
     "output_type": "stream",
     "text": [
      "/Users/ej7793/opt/anaconda3/lib/python3.7/site-packages/sklearn/model_selection/_validation.py:619: FitFailedWarning: Estimator fit failed. The score on this train-test partition for these parameters will be set to nan. Details: \n",
      "Traceback (most recent call last):\n",
      "  File \"/Users/ej7793/opt/anaconda3/lib/python3.7/site-packages/sklearn/model_selection/_validation.py\", line 598, in _fit_and_score\n",
      "    estimator.fit(X_train, y_train, **fit_params)\n",
      "  File \"/Users/ej7793/opt/anaconda3/lib/python3.7/site-packages/sklearn/svm/_base.py\", line 173, in fit\n",
      "    y = self._validate_targets(y)\n",
      "  File \"/Users/ej7793/opt/anaconda3/lib/python3.7/site-packages/sklearn/svm/_base.py\", line 560, in _validate_targets\n",
      "    \" class\" % len(cls))\n",
      "ValueError: The number of classes has to be greater than one; got 1 class\n",
      "\n",
      "  FitFailedWarning)\n",
      "/Users/ej7793/opt/anaconda3/lib/python3.7/site-packages/sklearn/metrics/_classification.py:1248: UndefinedMetricWarning: Precision is ill-defined and being set to 0.0 due to no predicted samples. Use `zero_division` parameter to control this behavior.\n",
      "  _warn_prf(average, modifier, msg_start, len(result))\n",
      "/Users/ej7793/opt/anaconda3/lib/python3.7/site-packages/sklearn/metrics/_classification.py:1248: UndefinedMetricWarning: Precision is ill-defined and being set to 0.0 due to no predicted samples. Use `zero_division` parameter to control this behavior.\n",
      "  _warn_prf(average, modifier, msg_start, len(result))\n",
      "/Users/ej7793/opt/anaconda3/lib/python3.7/site-packages/sklearn/metrics/_classification.py:1248: UndefinedMetricWarning: Precision is ill-defined and being set to 0.0 due to no predicted samples. Use `zero_division` parameter to control this behavior.\n",
      "  _warn_prf(average, modifier, msg_start, len(result))\n",
      "/Users/ej7793/opt/anaconda3/lib/python3.7/site-packages/sklearn/metrics/_classification.py:1248: UndefinedMetricWarning: Precision is ill-defined and being set to 0.0 due to no predicted samples. Use `zero_division` parameter to control this behavior.\n",
      "  _warn_prf(average, modifier, msg_start, len(result))\n",
      "/Users/ej7793/opt/anaconda3/lib/python3.7/site-packages/sklearn/metrics/_classification.py:1248: UndefinedMetricWarning: Precision is ill-defined and being set to 0.0 due to no predicted samples. Use `zero_division` parameter to control this behavior.\n",
      "  _warn_prf(average, modifier, msg_start, len(result))\n",
      "/Users/ej7793/opt/anaconda3/lib/python3.7/site-packages/sklearn/metrics/_classification.py:1248: UndefinedMetricWarning: Precision is ill-defined and being set to 0.0 due to no predicted samples. Use `zero_division` parameter to control this behavior.\n",
      "  _warn_prf(average, modifier, msg_start, len(result))\n",
      "/Users/ej7793/opt/anaconda3/lib/python3.7/site-packages/sklearn/metrics/_classification.py:1248: UndefinedMetricWarning: Precision is ill-defined and being set to 0.0 due to no predicted samples. Use `zero_division` parameter to control this behavior.\n",
      "  _warn_prf(average, modifier, msg_start, len(result))\n",
      "/Users/ej7793/opt/anaconda3/lib/python3.7/site-packages/sklearn/metrics/_classification.py:1248: UndefinedMetricWarning: Precision is ill-defined and being set to 0.0 due to no predicted samples. Use `zero_division` parameter to control this behavior.\n",
      "  _warn_prf(average, modifier, msg_start, len(result))\n",
      "/Users/ej7793/opt/anaconda3/lib/python3.7/site-packages/sklearn/metrics/_classification.py:1248: UndefinedMetricWarning: Precision is ill-defined and being set to 0.0 due to no predicted samples. Use `zero_division` parameter to control this behavior.\n",
      "  _warn_prf(average, modifier, msg_start, len(result))\n",
      "/Users/ej7793/opt/anaconda3/lib/python3.7/site-packages/sklearn/metrics/_classification.py:1248: UndefinedMetricWarning: Precision is ill-defined and being set to 0.0 due to no predicted samples. Use `zero_division` parameter to control this behavior.\n",
      "  _warn_prf(average, modifier, msg_start, len(result))\n",
      "/Users/ej7793/opt/anaconda3/lib/python3.7/site-packages/sklearn/metrics/_classification.py:1248: UndefinedMetricWarning: Precision is ill-defined and being set to 0.0 due to no predicted samples. Use `zero_division` parameter to control this behavior.\n",
      "  _warn_prf(average, modifier, msg_start, len(result))\n",
      "/Users/ej7793/opt/anaconda3/lib/python3.7/site-packages/sklearn/metrics/_classification.py:1248: UndefinedMetricWarning: Precision is ill-defined and being set to 0.0 due to no predicted samples. Use `zero_division` parameter to control this behavior.\n",
      "  _warn_prf(average, modifier, msg_start, len(result))\n",
      "/Users/ej7793/opt/anaconda3/lib/python3.7/site-packages/sklearn/metrics/_classification.py:1248: UndefinedMetricWarning: Precision is ill-defined and being set to 0.0 due to no predicted samples. Use `zero_division` parameter to control this behavior.\n",
      "  _warn_prf(average, modifier, msg_start, len(result))\n",
      "/Users/ej7793/opt/anaconda3/lib/python3.7/site-packages/sklearn/metrics/_classification.py:1248: UndefinedMetricWarning: Precision is ill-defined and being set to 0.0 due to no predicted samples. Use `zero_division` parameter to control this behavior.\n",
      "  _warn_prf(average, modifier, msg_start, len(result))\n",
      "/Users/ej7793/opt/anaconda3/lib/python3.7/site-packages/sklearn/metrics/_classification.py:1248: UndefinedMetricWarning: Precision is ill-defined and being set to 0.0 due to no predicted samples. Use `zero_division` parameter to control this behavior.\n",
      "  _warn_prf(average, modifier, msg_start, len(result))\n",
      "/Users/ej7793/opt/anaconda3/lib/python3.7/site-packages/sklearn/metrics/_classification.py:1248: UndefinedMetricWarning: Precision is ill-defined and being set to 0.0 due to no predicted samples. Use `zero_division` parameter to control this behavior.\n",
      "  _warn_prf(average, modifier, msg_start, len(result))\n",
      "/Users/ej7793/opt/anaconda3/lib/python3.7/site-packages/sklearn/metrics/_classification.py:1248: UndefinedMetricWarning: Precision is ill-defined and being set to 0.0 due to no predicted samples. Use `zero_division` parameter to control this behavior.\n",
      "  _warn_prf(average, modifier, msg_start, len(result))\n",
      "/Users/ej7793/opt/anaconda3/lib/python3.7/site-packages/sklearn/metrics/_classification.py:1248: UndefinedMetricWarning: Precision is ill-defined and being set to 0.0 due to no predicted samples. Use `zero_division` parameter to control this behavior.\n",
      "  _warn_prf(average, modifier, msg_start, len(result))\n",
      "/Users/ej7793/opt/anaconda3/lib/python3.7/site-packages/sklearn/metrics/_classification.py:1248: UndefinedMetricWarning: Precision is ill-defined and being set to 0.0 due to no predicted samples. Use `zero_division` parameter to control this behavior.\n",
      "  _warn_prf(average, modifier, msg_start, len(result))\n",
      "/Users/ej7793/opt/anaconda3/lib/python3.7/site-packages/sklearn/metrics/_classification.py:1248: UndefinedMetricWarning: Precision is ill-defined and being set to 0.0 due to no predicted samples. Use `zero_division` parameter to control this behavior.\n",
      "  _warn_prf(average, modifier, msg_start, len(result))\n",
      "/Users/ej7793/opt/anaconda3/lib/python3.7/site-packages/sklearn/metrics/_classification.py:1248: UndefinedMetricWarning: Precision is ill-defined and being set to 0.0 due to no predicted samples. Use `zero_division` parameter to control this behavior.\n",
      "  _warn_prf(average, modifier, msg_start, len(result))\n",
      "/Users/ej7793/opt/anaconda3/lib/python3.7/site-packages/sklearn/metrics/_classification.py:1248: UndefinedMetricWarning: Precision is ill-defined and being set to 0.0 due to no predicted samples. Use `zero_division` parameter to control this behavior.\n",
      "  _warn_prf(average, modifier, msg_start, len(result))\n",
      "/Users/ej7793/opt/anaconda3/lib/python3.7/site-packages/sklearn/metrics/_classification.py:1248: UndefinedMetricWarning: Precision is ill-defined and being set to 0.0 due to no predicted samples. Use `zero_division` parameter to control this behavior.\n",
      "  _warn_prf(average, modifier, msg_start, len(result))\n",
      "/Users/ej7793/opt/anaconda3/lib/python3.7/site-packages/sklearn/metrics/_classification.py:1248: UndefinedMetricWarning: Precision is ill-defined and being set to 0.0 due to no predicted samples. Use `zero_division` parameter to control this behavior.\n",
      "  _warn_prf(average, modifier, msg_start, len(result))\n",
      "/Users/ej7793/opt/anaconda3/lib/python3.7/site-packages/sklearn/metrics/_classification.py:1248: UndefinedMetricWarning: Precision is ill-defined and being set to 0.0 due to no predicted samples. Use `zero_division` parameter to control this behavior.\n",
      "  _warn_prf(average, modifier, msg_start, len(result))\n",
      "/Users/ej7793/opt/anaconda3/lib/python3.7/site-packages/sklearn/metrics/_classification.py:1248: UndefinedMetricWarning: Precision is ill-defined and being set to 0.0 due to no predicted samples. Use `zero_division` parameter to control this behavior.\n",
      "  _warn_prf(average, modifier, msg_start, len(result))\n",
      "/Users/ej7793/opt/anaconda3/lib/python3.7/site-packages/sklearn/metrics/_classification.py:1248: UndefinedMetricWarning: Precision is ill-defined and being set to 0.0 due to no predicted samples. Use `zero_division` parameter to control this behavior.\n",
      "  _warn_prf(average, modifier, msg_start, len(result))\n",
      "/Users/ej7793/opt/anaconda3/lib/python3.7/site-packages/sklearn/metrics/_classification.py:1248: UndefinedMetricWarning: Precision is ill-defined and being set to 0.0 due to no predicted samples. Use `zero_division` parameter to control this behavior.\n",
      "  _warn_prf(average, modifier, msg_start, len(result))\n"
     ]
    },
    {
     "name": "stderr",
     "output_type": "stream",
     "text": [
      "/Users/ej7793/opt/anaconda3/lib/python3.7/site-packages/sklearn/metrics/_classification.py:1248: UndefinedMetricWarning: Precision is ill-defined and being set to 0.0 due to no predicted samples. Use `zero_division` parameter to control this behavior.\n",
      "  _warn_prf(average, modifier, msg_start, len(result))\n",
      "/Users/ej7793/opt/anaconda3/lib/python3.7/site-packages/sklearn/metrics/_classification.py:1248: UndefinedMetricWarning: Precision is ill-defined and being set to 0.0 due to no predicted samples. Use `zero_division` parameter to control this behavior.\n",
      "  _warn_prf(average, modifier, msg_start, len(result))\n",
      "/Users/ej7793/opt/anaconda3/lib/python3.7/site-packages/sklearn/metrics/_classification.py:1248: UndefinedMetricWarning: Precision is ill-defined and being set to 0.0 due to no predicted samples. Use `zero_division` parameter to control this behavior.\n",
      "  _warn_prf(average, modifier, msg_start, len(result))\n",
      "/Users/ej7793/opt/anaconda3/lib/python3.7/site-packages/sklearn/metrics/_classification.py:1248: UndefinedMetricWarning: Precision is ill-defined and being set to 0.0 due to no predicted samples. Use `zero_division` parameter to control this behavior.\n",
      "  _warn_prf(average, modifier, msg_start, len(result))\n",
      "/Users/ej7793/opt/anaconda3/lib/python3.7/site-packages/sklearn/metrics/_classification.py:1248: UndefinedMetricWarning: Precision is ill-defined and being set to 0.0 due to no predicted samples. Use `zero_division` parameter to control this behavior.\n",
      "  _warn_prf(average, modifier, msg_start, len(result))\n",
      "/Users/ej7793/opt/anaconda3/lib/python3.7/site-packages/sklearn/metrics/_classification.py:1248: UndefinedMetricWarning: Precision is ill-defined and being set to 0.0 due to no predicted samples. Use `zero_division` parameter to control this behavior.\n",
      "  _warn_prf(average, modifier, msg_start, len(result))\n",
      "/Users/ej7793/opt/anaconda3/lib/python3.7/site-packages/sklearn/metrics/_classification.py:1248: UndefinedMetricWarning: Precision is ill-defined and being set to 0.0 due to no predicted samples. Use `zero_division` parameter to control this behavior.\n",
      "  _warn_prf(average, modifier, msg_start, len(result))\n",
      "/Users/ej7793/opt/anaconda3/lib/python3.7/site-packages/sklearn/metrics/_classification.py:1248: UndefinedMetricWarning: Precision is ill-defined and being set to 0.0 due to no predicted samples. Use `zero_division` parameter to control this behavior.\n",
      "  _warn_prf(average, modifier, msg_start, len(result))\n",
      "/Users/ej7793/opt/anaconda3/lib/python3.7/site-packages/sklearn/metrics/_classification.py:1248: UndefinedMetricWarning: Precision is ill-defined and being set to 0.0 due to no predicted samples. Use `zero_division` parameter to control this behavior.\n",
      "  _warn_prf(average, modifier, msg_start, len(result))\n",
      "/Users/ej7793/opt/anaconda3/lib/python3.7/site-packages/sklearn/metrics/_classification.py:1248: UndefinedMetricWarning: Precision is ill-defined and being set to 0.0 due to no predicted samples. Use `zero_division` parameter to control this behavior.\n",
      "  _warn_prf(average, modifier, msg_start, len(result))\n",
      "/Users/ej7793/opt/anaconda3/lib/python3.7/site-packages/sklearn/metrics/_classification.py:1248: UndefinedMetricWarning: Precision is ill-defined and being set to 0.0 due to no predicted samples. Use `zero_division` parameter to control this behavior.\n",
      "  _warn_prf(average, modifier, msg_start, len(result))\n",
      "/Users/ej7793/opt/anaconda3/lib/python3.7/site-packages/sklearn/metrics/_classification.py:1248: UndefinedMetricWarning: Precision is ill-defined and being set to 0.0 due to no predicted samples. Use `zero_division` parameter to control this behavior.\n",
      "  _warn_prf(average, modifier, msg_start, len(result))\n",
      "/Users/ej7793/opt/anaconda3/lib/python3.7/site-packages/sklearn/metrics/_classification.py:1248: UndefinedMetricWarning: Precision is ill-defined and being set to 0.0 due to no predicted samples. Use `zero_division` parameter to control this behavior.\n",
      "  _warn_prf(average, modifier, msg_start, len(result))\n",
      "/Users/ej7793/opt/anaconda3/lib/python3.7/site-packages/sklearn/metrics/_classification.py:1248: UndefinedMetricWarning: Precision is ill-defined and being set to 0.0 due to no predicted samples. Use `zero_division` parameter to control this behavior.\n",
      "  _warn_prf(average, modifier, msg_start, len(result))\n",
      "/Users/ej7793/opt/anaconda3/lib/python3.7/site-packages/sklearn/metrics/_classification.py:1248: UndefinedMetricWarning: Precision is ill-defined and being set to 0.0 due to no predicted samples. Use `zero_division` parameter to control this behavior.\n",
      "  _warn_prf(average, modifier, msg_start, len(result))\n",
      "/Users/ej7793/opt/anaconda3/lib/python3.7/site-packages/sklearn/metrics/_classification.py:1248: UndefinedMetricWarning: Precision is ill-defined and being set to 0.0 due to no predicted samples. Use `zero_division` parameter to control this behavior.\n",
      "  _warn_prf(average, modifier, msg_start, len(result))\n",
      "/Users/ej7793/opt/anaconda3/lib/python3.7/site-packages/sklearn/metrics/_classification.py:1248: UndefinedMetricWarning: Precision is ill-defined and being set to 0.0 due to no predicted samples. Use `zero_division` parameter to control this behavior.\n",
      "  _warn_prf(average, modifier, msg_start, len(result))\n",
      "/Users/ej7793/opt/anaconda3/lib/python3.7/site-packages/sklearn/metrics/_classification.py:1248: UndefinedMetricWarning: Precision is ill-defined and being set to 0.0 due to no predicted samples. Use `zero_division` parameter to control this behavior.\n",
      "  _warn_prf(average, modifier, msg_start, len(result))\n",
      "/Users/ej7793/opt/anaconda3/lib/python3.7/site-packages/sklearn/metrics/_classification.py:1248: UndefinedMetricWarning: Precision is ill-defined and being set to 0.0 due to no predicted samples. Use `zero_division` parameter to control this behavior.\n",
      "  _warn_prf(average, modifier, msg_start, len(result))\n",
      "/Users/ej7793/opt/anaconda3/lib/python3.7/site-packages/sklearn/metrics/_classification.py:1248: UndefinedMetricWarning: Precision is ill-defined and being set to 0.0 due to no predicted samples. Use `zero_division` parameter to control this behavior.\n",
      "  _warn_prf(average, modifier, msg_start, len(result))\n",
      "/Users/ej7793/opt/anaconda3/lib/python3.7/site-packages/sklearn/metrics/_classification.py:1248: UndefinedMetricWarning: Precision is ill-defined and being set to 0.0 due to no predicted samples. Use `zero_division` parameter to control this behavior.\n",
      "  _warn_prf(average, modifier, msg_start, len(result))\n",
      "/Users/ej7793/opt/anaconda3/lib/python3.7/site-packages/sklearn/metrics/_classification.py:1248: UndefinedMetricWarning: Precision is ill-defined and being set to 0.0 due to no predicted samples. Use `zero_division` parameter to control this behavior.\n",
      "  _warn_prf(average, modifier, msg_start, len(result))\n"
     ]
    },
    {
     "data": {
      "image/png": "[encoded data removed]",
      "text/plain": [
       "<Figure size 432x288 with 1 Axes>"
      ]
     },
     "metadata": {
      "needs_background": "light"
     },
     "output_type": "display_data"
    },
    {
     "name": "stderr",
     "output_type": "stream",
     "text": [
      "/Users/ej7793/opt/anaconda3/lib/python3.7/site-packages/sklearn/model_selection/_validation.py:619: FitFailedWarning: Estimator fit failed. The score on this train-test partition for these parameters will be set to nan. Details: \n",
      "Traceback (most recent call last):\n",
      "  File \"/Users/ej7793/opt/anaconda3/lib/python3.7/site-packages/sklearn/model_selection/_validation.py\", line 598, in _fit_and_score\n",
      "    estimator.fit(X_train, y_train, **fit_params)\n",
      "  File \"/Users/ej7793/opt/anaconda3/lib/python3.7/site-packages/sklearn/svm/_base.py\", line 173, in fit\n",
      "    y = self._validate_targets(y)\n",
      "  File \"/Users/ej7793/opt/anaconda3/lib/python3.7/site-packages/sklearn/svm/_base.py\", line 560, in _validate_targets\n",
      "    \" class\" % len(cls))\n",
      "ValueError: The number of classes has to be greater than one; got 1 class\n",
      "\n",
      "  FitFailedWarning)\n"
     ]
    },
    {
     "data": {
      "image/png": "[encoded data removed]",
      "text/plain": [
       "<Figure size 432x288 with 1 Axes>"
      ]
     },
     "metadata": {
      "needs_background": "light"
     },
     "output_type": "display_data"
    }
   ],
   "source": [
    "disp = plot_learning_curve(svm_tuned, X, y, 'precision', 'SVM_hyperparameter_tuned')\n",
    "plot_learning_curve(svm, X, y, 'precision', 'SVM');"
   ]
  },
  {
   "cell_type": "markdown",
   "metadata": {},
   "source": [
    "## Final prediction results and performance"
   ]
  },
  {
   "cell_type": "code",
   "execution_count": 27,
   "metadata": {},
   "outputs": [
    {
     "name": "stdout",
     "output_type": "stream",
     "text": [
      "\n",
      "Model Report\n",
      "Accuracy on Train Data: 0.8167\n",
      "Precision on Train Data: 0.9712\n",
      "Recall on Train Data: 0.2894\n",
      "F1 score on Train Data: 0.4459\n",
      "Accuracy on Test Data: 0.825\n",
      "Precision on Test Data: 0.9787\n",
      "Recall on Test Data: 0.2845\n",
      "F1 score on Test Data: 0.4409\n",
      "Total Time:  5.517776647000005\n",
      "training time:  3.3320841130000645\n",
      "testing time:  1.0546614690000524\n"
     ]
    }
   ],
   "source": [
    "y_pred=modelfit(svm_tuned, X_train, X_final_test,predictors,target)"
   ]
  }
 ],
 "metadata": {
  "kernelspec": {
   "display_name": "Python 3",
   "language": "python",
   "name": "python3"
  },
  "language_info": {
   "codemirror_mode": {
    "name": "ipython",
    "version": 3
   },
   "file_extension": ".py",
   "mimetype": "text/x-python",
   "name": "python",
   "nbconvert_exporter": "python",
   "pygments_lexer": "ipython3",
   "version": "3.6.5"
  }
 },
 "nbformat": 4,
 "nbformat_minor": 2
}
